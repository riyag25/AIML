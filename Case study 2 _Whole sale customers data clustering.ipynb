{
 "cells": [
  {
   "cell_type": "markdown",
   "id": "1b4f6996",
   "metadata": {},
   "source": [
    "# CASE STUDY ON UNSUPERVISED LEARNING\n",
    "The Whole sale customer data is given\n",
    "1. Read the dataset to the python environment.\n",
    "2. Try out different clustering models in the Whole sale customer dataset.\n",
    "3. Find the optimum number of clusters in each model and create the model with\n",
    "the optimum number of clusters.\n",
    "4. Perform PCA for Dimensionality reduction."
   ]
  },
  {
   "cell_type": "code",
   "execution_count": 1,
   "id": "3d0be611",
   "metadata": {},
   "outputs": [],
   "source": [
    "#import libraries\n",
    "import numpy as np\n",
    "import pandas as pd\n",
    "import matplotlib.pyplot as plt\n",
    "import seaborn as sns"
   ]
  },
  {
   "cell_type": "markdown",
   "id": "9e63e565",
   "metadata": {},
   "source": [
    "## 1. Read the dataset to the python environment."
   ]
  },
  {
   "cell_type": "code",
   "execution_count": 2,
   "id": "7f9424f3",
   "metadata": {},
   "outputs": [],
   "source": [
    "df = pd.read_csv('Wholesale customers data.csv')"
   ]
  },
  {
   "cell_type": "code",
   "execution_count": 3,
   "id": "7f2cdfdd",
   "metadata": {},
   "outputs": [
    {
     "data": {
      "text/html": [
       "<div>\n",
       "<style scoped>\n",
       "    .dataframe tbody tr th:only-of-type {\n",
       "        vertical-align: middle;\n",
       "    }\n",
       "\n",
       "    .dataframe tbody tr th {\n",
       "        vertical-align: top;\n",
       "    }\n",
       "\n",
       "    .dataframe thead th {\n",
       "        text-align: right;\n",
       "    }\n",
       "</style>\n",
       "<table border=\"1\" class=\"dataframe\">\n",
       "  <thead>\n",
       "    <tr style=\"text-align: right;\">\n",
       "      <th></th>\n",
       "      <th>Channel</th>\n",
       "      <th>Region</th>\n",
       "      <th>Fresh</th>\n",
       "      <th>Milk</th>\n",
       "      <th>Grocery</th>\n",
       "      <th>Frozen</th>\n",
       "      <th>Detergents_Paper</th>\n",
       "      <th>Delicassen</th>\n",
       "    </tr>\n",
       "  </thead>\n",
       "  <tbody>\n",
       "    <tr>\n",
       "      <th>0</th>\n",
       "      <td>2</td>\n",
       "      <td>3</td>\n",
       "      <td>12669</td>\n",
       "      <td>9656</td>\n",
       "      <td>7561</td>\n",
       "      <td>214</td>\n",
       "      <td>2674</td>\n",
       "      <td>1338</td>\n",
       "    </tr>\n",
       "    <tr>\n",
       "      <th>1</th>\n",
       "      <td>2</td>\n",
       "      <td>3</td>\n",
       "      <td>7057</td>\n",
       "      <td>9810</td>\n",
       "      <td>9568</td>\n",
       "      <td>1762</td>\n",
       "      <td>3293</td>\n",
       "      <td>1776</td>\n",
       "    </tr>\n",
       "    <tr>\n",
       "      <th>2</th>\n",
       "      <td>2</td>\n",
       "      <td>3</td>\n",
       "      <td>6353</td>\n",
       "      <td>8808</td>\n",
       "      <td>7684</td>\n",
       "      <td>2405</td>\n",
       "      <td>3516</td>\n",
       "      <td>7844</td>\n",
       "    </tr>\n",
       "    <tr>\n",
       "      <th>3</th>\n",
       "      <td>1</td>\n",
       "      <td>3</td>\n",
       "      <td>13265</td>\n",
       "      <td>1196</td>\n",
       "      <td>4221</td>\n",
       "      <td>6404</td>\n",
       "      <td>507</td>\n",
       "      <td>1788</td>\n",
       "    </tr>\n",
       "    <tr>\n",
       "      <th>4</th>\n",
       "      <td>2</td>\n",
       "      <td>3</td>\n",
       "      <td>22615</td>\n",
       "      <td>5410</td>\n",
       "      <td>7198</td>\n",
       "      <td>3915</td>\n",
       "      <td>1777</td>\n",
       "      <td>5185</td>\n",
       "    </tr>\n",
       "  </tbody>\n",
       "</table>\n",
       "</div>"
      ],
      "text/plain": [
       "   Channel  Region  Fresh  Milk  Grocery  Frozen  Detergents_Paper  Delicassen\n",
       "0        2       3  12669  9656     7561     214              2674        1338\n",
       "1        2       3   7057  9810     9568    1762              3293        1776\n",
       "2        2       3   6353  8808     7684    2405              3516        7844\n",
       "3        1       3  13265  1196     4221    6404               507        1788\n",
       "4        2       3  22615  5410     7198    3915              1777        5185"
      ]
     },
     "execution_count": 3,
     "metadata": {},
     "output_type": "execute_result"
    }
   ],
   "source": [
    "df.head()"
   ]
  },
  {
   "cell_type": "code",
   "execution_count": 4,
   "id": "29c3d756",
   "metadata": {},
   "outputs": [
    {
     "data": {
      "text/plain": [
       "(440, 8)"
      ]
     },
     "execution_count": 4,
     "metadata": {},
     "output_type": "execute_result"
    }
   ],
   "source": [
    "df.shape"
   ]
  },
  {
   "cell_type": "markdown",
   "id": "2a4de427",
   "metadata": {},
   "source": [
    "### EDA and Feature Engineering"
   ]
  },
  {
   "cell_type": "code",
   "execution_count": 5,
   "id": "a056d452",
   "metadata": {},
   "outputs": [
    {
     "data": {
      "text/html": [
       "<div>\n",
       "<style scoped>\n",
       "    .dataframe tbody tr th:only-of-type {\n",
       "        vertical-align: middle;\n",
       "    }\n",
       "\n",
       "    .dataframe tbody tr th {\n",
       "        vertical-align: top;\n",
       "    }\n",
       "\n",
       "    .dataframe thead th {\n",
       "        text-align: right;\n",
       "    }\n",
       "</style>\n",
       "<table border=\"1\" class=\"dataframe\">\n",
       "  <thead>\n",
       "    <tr style=\"text-align: right;\">\n",
       "      <th></th>\n",
       "      <th>Channel</th>\n",
       "      <th>Region</th>\n",
       "      <th>Fresh</th>\n",
       "      <th>Milk</th>\n",
       "      <th>Grocery</th>\n",
       "      <th>Frozen</th>\n",
       "      <th>Detergents_Paper</th>\n",
       "      <th>Delicassen</th>\n",
       "    </tr>\n",
       "  </thead>\n",
       "  <tbody>\n",
       "    <tr>\n",
       "      <th>count</th>\n",
       "      <td>440.000000</td>\n",
       "      <td>440.000000</td>\n",
       "      <td>440.000000</td>\n",
       "      <td>440.000000</td>\n",
       "      <td>440.000000</td>\n",
       "      <td>440.000000</td>\n",
       "      <td>440.000000</td>\n",
       "      <td>440.000000</td>\n",
       "    </tr>\n",
       "    <tr>\n",
       "      <th>mean</th>\n",
       "      <td>1.322727</td>\n",
       "      <td>2.543182</td>\n",
       "      <td>12000.297727</td>\n",
       "      <td>5796.265909</td>\n",
       "      <td>7951.277273</td>\n",
       "      <td>3071.931818</td>\n",
       "      <td>2881.493182</td>\n",
       "      <td>1524.870455</td>\n",
       "    </tr>\n",
       "    <tr>\n",
       "      <th>std</th>\n",
       "      <td>0.468052</td>\n",
       "      <td>0.774272</td>\n",
       "      <td>12647.328865</td>\n",
       "      <td>7380.377175</td>\n",
       "      <td>9503.162829</td>\n",
       "      <td>4854.673333</td>\n",
       "      <td>4767.854448</td>\n",
       "      <td>2820.105937</td>\n",
       "    </tr>\n",
       "    <tr>\n",
       "      <th>min</th>\n",
       "      <td>1.000000</td>\n",
       "      <td>1.000000</td>\n",
       "      <td>3.000000</td>\n",
       "      <td>55.000000</td>\n",
       "      <td>3.000000</td>\n",
       "      <td>25.000000</td>\n",
       "      <td>3.000000</td>\n",
       "      <td>3.000000</td>\n",
       "    </tr>\n",
       "    <tr>\n",
       "      <th>25%</th>\n",
       "      <td>1.000000</td>\n",
       "      <td>2.000000</td>\n",
       "      <td>3127.750000</td>\n",
       "      <td>1533.000000</td>\n",
       "      <td>2153.000000</td>\n",
       "      <td>742.250000</td>\n",
       "      <td>256.750000</td>\n",
       "      <td>408.250000</td>\n",
       "    </tr>\n",
       "    <tr>\n",
       "      <th>50%</th>\n",
       "      <td>1.000000</td>\n",
       "      <td>3.000000</td>\n",
       "      <td>8504.000000</td>\n",
       "      <td>3627.000000</td>\n",
       "      <td>4755.500000</td>\n",
       "      <td>1526.000000</td>\n",
       "      <td>816.500000</td>\n",
       "      <td>965.500000</td>\n",
       "    </tr>\n",
       "    <tr>\n",
       "      <th>75%</th>\n",
       "      <td>2.000000</td>\n",
       "      <td>3.000000</td>\n",
       "      <td>16933.750000</td>\n",
       "      <td>7190.250000</td>\n",
       "      <td>10655.750000</td>\n",
       "      <td>3554.250000</td>\n",
       "      <td>3922.000000</td>\n",
       "      <td>1820.250000</td>\n",
       "    </tr>\n",
       "    <tr>\n",
       "      <th>max</th>\n",
       "      <td>2.000000</td>\n",
       "      <td>3.000000</td>\n",
       "      <td>112151.000000</td>\n",
       "      <td>73498.000000</td>\n",
       "      <td>92780.000000</td>\n",
       "      <td>60869.000000</td>\n",
       "      <td>40827.000000</td>\n",
       "      <td>47943.000000</td>\n",
       "    </tr>\n",
       "  </tbody>\n",
       "</table>\n",
       "</div>"
      ],
      "text/plain": [
       "          Channel      Region          Fresh          Milk       Grocery  \\\n",
       "count  440.000000  440.000000     440.000000    440.000000    440.000000   \n",
       "mean     1.322727    2.543182   12000.297727   5796.265909   7951.277273   \n",
       "std      0.468052    0.774272   12647.328865   7380.377175   9503.162829   \n",
       "min      1.000000    1.000000       3.000000     55.000000      3.000000   \n",
       "25%      1.000000    2.000000    3127.750000   1533.000000   2153.000000   \n",
       "50%      1.000000    3.000000    8504.000000   3627.000000   4755.500000   \n",
       "75%      2.000000    3.000000   16933.750000   7190.250000  10655.750000   \n",
       "max      2.000000    3.000000  112151.000000  73498.000000  92780.000000   \n",
       "\n",
       "             Frozen  Detergents_Paper    Delicassen  \n",
       "count    440.000000        440.000000    440.000000  \n",
       "mean    3071.931818       2881.493182   1524.870455  \n",
       "std     4854.673333       4767.854448   2820.105937  \n",
       "min       25.000000          3.000000      3.000000  \n",
       "25%      742.250000        256.750000    408.250000  \n",
       "50%     1526.000000        816.500000    965.500000  \n",
       "75%     3554.250000       3922.000000   1820.250000  \n",
       "max    60869.000000      40827.000000  47943.000000  "
      ]
     },
     "execution_count": 5,
     "metadata": {},
     "output_type": "execute_result"
    }
   ],
   "source": [
    "df.describe()"
   ]
  },
  {
   "cell_type": "code",
   "execution_count": 6,
   "id": "874e562f",
   "metadata": {},
   "outputs": [],
   "source": [
    "features = df.columns"
   ]
  },
  {
   "cell_type": "code",
   "execution_count": 7,
   "id": "a6188e64",
   "metadata": {},
   "outputs": [
    {
     "data": {
      "text/plain": [
       "<Figure size 432x288 with 0 Axes>"
      ]
     },
     "metadata": {},
     "output_type": "display_data"
    },
    {
     "data": {
      "image/png": "[encoded data removed]",
      "text/plain": [
       "<Figure size 360x360 with 1 Axes>"
      ]
     },
     "metadata": {
      "needs_background": "light"
     },
     "output_type": "display_data"
    },
    {
     "data": {
      "image/png": "[encoded data removed]",
      "text/plain": [
       "<Figure size 360x360 with 1 Axes>"
      ]
     },
     "metadata": {
      "needs_background": "light"
     },
     "output_type": "display_data"
    },
    {
     "data": {
      "image/png": "[encoded data removed]",
      "text/plain": [
       "<Figure size 360x360 with 1 Axes>"
      ]
     },
     "metadata": {
      "needs_background": "light"
     },
     "output_type": "display_data"
    },
    {
     "data": {
      "image/png": "[encoded data removed]",
      "text/plain": [
       "<Figure size 360x360 with 1 Axes>"
      ]
     },
     "metadata": {
      "needs_background": "light"
     },
     "output_type": "display_data"
    },
    {
     "data": {
      "image/png": "[encoded data removed]",
      "text/plain": [
       "<Figure size 360x360 with 1 Axes>"
      ]
     },
     "metadata": {
      "needs_background": "light"
     },
     "output_type": "display_data"
    },
    {
     "data": {
      "image/png": "[encoded data removed]",
      "text/plain": [
       "<Figure size 360x360 with 1 Axes>"
      ]
     },
     "metadata": {
      "needs_background": "light"
     },
     "output_type": "display_data"
    },
    {
     "data": {
      "image/png": "[encoded data removed]",
      "text/plain": [
       "<Figure size 360x360 with 1 Axes>"
      ]
     },
     "metadata": {
      "needs_background": "light"
     },
     "output_type": "display_data"
    },
    {
     "data": {
      "image/png": "[encoded data removed]",
      "text/plain": [
       "<Figure size 360x360 with 1 Axes>"
      ]
     },
     "metadata": {
      "needs_background": "light"
     },
     "output_type": "display_data"
    }
   ],
   "source": [
    "for i,f in enumerate(features):\n",
    "    plt.figure(i)\n",
    "    sns.displot(data = df, x =f )"
   ]
  },
  {
   "cell_type": "code",
   "execution_count": 8,
   "id": "1e7d3da4",
   "metadata": {},
   "outputs": [
    {
     "data": {
      "text/plain": [
       "<AxesSubplot:>"
      ]
     },
     "execution_count": 8,
     "metadata": {},
     "output_type": "execute_result"
    },
    {
     "data": {
      "image/png": "[encoded data removed]",
      "text/plain": [
       "<Figure size 432x288 with 1 Axes>"
      ]
     },
     "metadata": {
      "needs_background": "light"
     },
     "output_type": "display_data"
    }
   ],
   "source": [
    "df['Delicassen'].plot(kind = 'box')"
   ]
  },
  {
   "cell_type": "code",
   "execution_count": 9,
   "id": "7d2c2704",
   "metadata": {},
   "outputs": [
    {
     "data": {
      "text/html": [
       "<div>\n",
       "<style scoped>\n",
       "    .dataframe tbody tr th:only-of-type {\n",
       "        vertical-align: middle;\n",
       "    }\n",
       "\n",
       "    .dataframe tbody tr th {\n",
       "        vertical-align: top;\n",
       "    }\n",
       "\n",
       "    .dataframe thead th {\n",
       "        text-align: right;\n",
       "    }\n",
       "</style>\n",
       "<table border=\"1\" class=\"dataframe\">\n",
       "  <thead>\n",
       "    <tr style=\"text-align: right;\">\n",
       "      <th></th>\n",
       "      <th>Channel</th>\n",
       "      <th>Region</th>\n",
       "      <th>Fresh</th>\n",
       "      <th>Milk</th>\n",
       "      <th>Grocery</th>\n",
       "      <th>Frozen</th>\n",
       "      <th>Detergents_Paper</th>\n",
       "      <th>Delicassen</th>\n",
       "    </tr>\n",
       "  </thead>\n",
       "  <tbody>\n",
       "    <tr>\n",
       "      <th>2</th>\n",
       "      <td>2</td>\n",
       "      <td>3</td>\n",
       "      <td>6353</td>\n",
       "      <td>8808</td>\n",
       "      <td>7684</td>\n",
       "      <td>2405</td>\n",
       "      <td>3516</td>\n",
       "      <td>7844</td>\n",
       "    </tr>\n",
       "    <tr>\n",
       "      <th>4</th>\n",
       "      <td>2</td>\n",
       "      <td>3</td>\n",
       "      <td>22615</td>\n",
       "      <td>5410</td>\n",
       "      <td>7198</td>\n",
       "      <td>3915</td>\n",
       "      <td>1777</td>\n",
       "      <td>5185</td>\n",
       "    </tr>\n",
       "    <tr>\n",
       "      <th>7</th>\n",
       "      <td>2</td>\n",
       "      <td>3</td>\n",
       "      <td>7579</td>\n",
       "      <td>4956</td>\n",
       "      <td>9426</td>\n",
       "      <td>1669</td>\n",
       "      <td>3321</td>\n",
       "      <td>2566</td>\n",
       "    </tr>\n",
       "    <tr>\n",
       "      <th>9</th>\n",
       "      <td>2</td>\n",
       "      <td>3</td>\n",
       "      <td>6006</td>\n",
       "      <td>11093</td>\n",
       "      <td>18881</td>\n",
       "      <td>1159</td>\n",
       "      <td>7425</td>\n",
       "      <td>2098</td>\n",
       "    </tr>\n",
       "    <tr>\n",
       "      <th>12</th>\n",
       "      <td>2</td>\n",
       "      <td>3</td>\n",
       "      <td>31714</td>\n",
       "      <td>12319</td>\n",
       "      <td>11757</td>\n",
       "      <td>287</td>\n",
       "      <td>3881</td>\n",
       "      <td>2931</td>\n",
       "    </tr>\n",
       "    <tr>\n",
       "      <th>...</th>\n",
       "      <td>...</td>\n",
       "      <td>...</td>\n",
       "      <td>...</td>\n",
       "      <td>...</td>\n",
       "      <td>...</td>\n",
       "      <td>...</td>\n",
       "      <td>...</td>\n",
       "      <td>...</td>\n",
       "    </tr>\n",
       "    <tr>\n",
       "      <th>430</th>\n",
       "      <td>1</td>\n",
       "      <td>3</td>\n",
       "      <td>3097</td>\n",
       "      <td>4230</td>\n",
       "      <td>16483</td>\n",
       "      <td>575</td>\n",
       "      <td>241</td>\n",
       "      <td>2080</td>\n",
       "    </tr>\n",
       "    <tr>\n",
       "      <th>435</th>\n",
       "      <td>1</td>\n",
       "      <td>3</td>\n",
       "      <td>29703</td>\n",
       "      <td>12051</td>\n",
       "      <td>16027</td>\n",
       "      <td>13135</td>\n",
       "      <td>182</td>\n",
       "      <td>2204</td>\n",
       "    </tr>\n",
       "    <tr>\n",
       "      <th>436</th>\n",
       "      <td>1</td>\n",
       "      <td>3</td>\n",
       "      <td>39228</td>\n",
       "      <td>1431</td>\n",
       "      <td>764</td>\n",
       "      <td>4510</td>\n",
       "      <td>93</td>\n",
       "      <td>2346</td>\n",
       "    </tr>\n",
       "    <tr>\n",
       "      <th>437</th>\n",
       "      <td>2</td>\n",
       "      <td>3</td>\n",
       "      <td>14531</td>\n",
       "      <td>15488</td>\n",
       "      <td>30243</td>\n",
       "      <td>437</td>\n",
       "      <td>14841</td>\n",
       "      <td>1867</td>\n",
       "    </tr>\n",
       "    <tr>\n",
       "      <th>438</th>\n",
       "      <td>1</td>\n",
       "      <td>3</td>\n",
       "      <td>10290</td>\n",
       "      <td>1981</td>\n",
       "      <td>2232</td>\n",
       "      <td>1038</td>\n",
       "      <td>168</td>\n",
       "      <td>2125</td>\n",
       "    </tr>\n",
       "  </tbody>\n",
       "</table>\n",
       "<p>110 rows × 8 columns</p>\n",
       "</div>"
      ],
      "text/plain": [
       "     Channel  Region  Fresh   Milk  Grocery  Frozen  Detergents_Paper  \\\n",
       "2          2       3   6353   8808     7684    2405              3516   \n",
       "4          2       3  22615   5410     7198    3915              1777   \n",
       "7          2       3   7579   4956     9426    1669              3321   \n",
       "9          2       3   6006  11093    18881    1159              7425   \n",
       "12         2       3  31714  12319    11757     287              3881   \n",
       "..       ...     ...    ...    ...      ...     ...               ...   \n",
       "430        1       3   3097   4230    16483     575               241   \n",
       "435        1       3  29703  12051    16027   13135               182   \n",
       "436        1       3  39228   1431      764    4510                93   \n",
       "437        2       3  14531  15488    30243     437             14841   \n",
       "438        1       3  10290   1981     2232    1038               168   \n",
       "\n",
       "     Delicassen  \n",
       "2          7844  \n",
       "4          5185  \n",
       "7          2566  \n",
       "9          2098  \n",
       "12         2931  \n",
       "..          ...  \n",
       "430        2080  \n",
       "435        2204  \n",
       "436        2346  \n",
       "437        1867  \n",
       "438        2125  \n",
       "\n",
       "[110 rows x 8 columns]"
      ]
     },
     "execution_count": 9,
     "metadata": {},
     "output_type": "execute_result"
    }
   ],
   "source": [
    "df[df['Delicassen']>1820]"
   ]
  },
  {
   "cell_type": "code",
   "execution_count": 10,
   "id": "3fa7a427",
   "metadata": {},
   "outputs": [],
   "source": [
    "df['Total'] = df.iloc[:,2:-1].sum(axis =1)\n",
    "# total column to sum the prices of all items"
   ]
  },
  {
   "cell_type": "code",
   "execution_count": 11,
   "id": "ad46db91",
   "metadata": {},
   "outputs": [
    {
     "data": {
      "text/html": [
       "<div>\n",
       "<style scoped>\n",
       "    .dataframe tbody tr th:only-of-type {\n",
       "        vertical-align: middle;\n",
       "    }\n",
       "\n",
       "    .dataframe tbody tr th {\n",
       "        vertical-align: top;\n",
       "    }\n",
       "\n",
       "    .dataframe thead th {\n",
       "        text-align: right;\n",
       "    }\n",
       "</style>\n",
       "<table border=\"1\" class=\"dataframe\">\n",
       "  <thead>\n",
       "    <tr style=\"text-align: right;\">\n",
       "      <th></th>\n",
       "      <th></th>\n",
       "      <th>Fresh</th>\n",
       "      <th>Milk</th>\n",
       "      <th>Grocery</th>\n",
       "      <th>Frozen</th>\n",
       "      <th>Detergents_Paper</th>\n",
       "      <th>Delicassen</th>\n",
       "      <th>Total</th>\n",
       "    </tr>\n",
       "    <tr>\n",
       "      <th>Channel</th>\n",
       "      <th>Region</th>\n",
       "      <th></th>\n",
       "      <th></th>\n",
       "      <th></th>\n",
       "      <th></th>\n",
       "      <th></th>\n",
       "      <th></th>\n",
       "      <th></th>\n",
       "    </tr>\n",
       "  </thead>\n",
       "  <tbody>\n",
       "    <tr>\n",
       "      <th rowspan=\"3\" valign=\"top\">1</th>\n",
       "      <th>1</th>\n",
       "      <td>59</td>\n",
       "      <td>59</td>\n",
       "      <td>59</td>\n",
       "      <td>59</td>\n",
       "      <td>59</td>\n",
       "      <td>59</td>\n",
       "      <td>59</td>\n",
       "    </tr>\n",
       "    <tr>\n",
       "      <th>2</th>\n",
       "      <td>28</td>\n",
       "      <td>28</td>\n",
       "      <td>28</td>\n",
       "      <td>28</td>\n",
       "      <td>28</td>\n",
       "      <td>28</td>\n",
       "      <td>28</td>\n",
       "    </tr>\n",
       "    <tr>\n",
       "      <th>3</th>\n",
       "      <td>211</td>\n",
       "      <td>211</td>\n",
       "      <td>211</td>\n",
       "      <td>211</td>\n",
       "      <td>211</td>\n",
       "      <td>211</td>\n",
       "      <td>211</td>\n",
       "    </tr>\n",
       "    <tr>\n",
       "      <th rowspan=\"3\" valign=\"top\">2</th>\n",
       "      <th>1</th>\n",
       "      <td>18</td>\n",
       "      <td>18</td>\n",
       "      <td>18</td>\n",
       "      <td>18</td>\n",
       "      <td>18</td>\n",
       "      <td>18</td>\n",
       "      <td>18</td>\n",
       "    </tr>\n",
       "    <tr>\n",
       "      <th>2</th>\n",
       "      <td>19</td>\n",
       "      <td>19</td>\n",
       "      <td>19</td>\n",
       "      <td>19</td>\n",
       "      <td>19</td>\n",
       "      <td>19</td>\n",
       "      <td>19</td>\n",
       "    </tr>\n",
       "    <tr>\n",
       "      <th>3</th>\n",
       "      <td>105</td>\n",
       "      <td>105</td>\n",
       "      <td>105</td>\n",
       "      <td>105</td>\n",
       "      <td>105</td>\n",
       "      <td>105</td>\n",
       "      <td>105</td>\n",
       "    </tr>\n",
       "  </tbody>\n",
       "</table>\n",
       "</div>"
      ],
      "text/plain": [
       "                Fresh  Milk  Grocery  Frozen  Detergents_Paper  Delicassen  \\\n",
       "Channel Region                                                               \n",
       "1       1          59    59       59      59                59          59   \n",
       "        2          28    28       28      28                28          28   \n",
       "        3         211   211      211     211               211         211   \n",
       "2       1          18    18       18      18                18          18   \n",
       "        2          19    19       19      19                19          19   \n",
       "        3         105   105      105     105               105         105   \n",
       "\n",
       "                Total  \n",
       "Channel Region         \n",
       "1       1          59  \n",
       "        2          28  \n",
       "        3         211  \n",
       "2       1          18  \n",
       "        2          19  \n",
       "        3         105  "
      ]
     },
     "execution_count": 11,
     "metadata": {},
     "output_type": "execute_result"
    }
   ],
   "source": [
    "df.groupby(by =[ 'Channel', 'Region']).count()"
   ]
  },
  {
   "cell_type": "code",
   "execution_count": 12,
   "id": "e6b68b49",
   "metadata": {},
   "outputs": [
    {
     "data": {
      "text/html": [
       "<div>\n",
       "<style scoped>\n",
       "    .dataframe tbody tr th:only-of-type {\n",
       "        vertical-align: middle;\n",
       "    }\n",
       "\n",
       "    .dataframe tbody tr th {\n",
       "        vertical-align: top;\n",
       "    }\n",
       "\n",
       "    .dataframe thead th {\n",
       "        text-align: right;\n",
       "    }\n",
       "</style>\n",
       "<table border=\"1\" class=\"dataframe\">\n",
       "  <thead>\n",
       "    <tr style=\"text-align: right;\">\n",
       "      <th></th>\n",
       "      <th></th>\n",
       "      <th>count</th>\n",
       "      <th>mean</th>\n",
       "      <th>std</th>\n",
       "      <th>min</th>\n",
       "      <th>25%</th>\n",
       "      <th>50%</th>\n",
       "      <th>75%</th>\n",
       "      <th>max</th>\n",
       "    </tr>\n",
       "    <tr>\n",
       "      <th>Channel</th>\n",
       "      <th>Region</th>\n",
       "      <th></th>\n",
       "      <th></th>\n",
       "      <th></th>\n",
       "      <th></th>\n",
       "      <th></th>\n",
       "      <th></th>\n",
       "      <th></th>\n",
       "      <th></th>\n",
       "    </tr>\n",
       "  </thead>\n",
       "  <tbody>\n",
       "    <tr>\n",
       "      <th rowspan=\"3\" valign=\"top\">1</th>\n",
       "      <th>1</th>\n",
       "      <td>59.0</td>\n",
       "      <td>24876.440678</td>\n",
       "      <td>15703.993992</td>\n",
       "      <td>4907.0</td>\n",
       "      <td>15106.50</td>\n",
       "      <td>21163.0</td>\n",
       "      <td>28461.5</td>\n",
       "      <td>69922.0</td>\n",
       "    </tr>\n",
       "    <tr>\n",
       "      <th>2</th>\n",
       "      <td>28.0</td>\n",
       "      <td>24578.035714</td>\n",
       "      <td>21719.061431</td>\n",
       "      <td>3607.0</td>\n",
       "      <td>15967.00</td>\n",
       "      <td>21409.5</td>\n",
       "      <td>27964.5</td>\n",
       "      <td>125268.0</td>\n",
       "    </tr>\n",
       "    <tr>\n",
       "      <th>3</th>\n",
       "      <td>211.0</td>\n",
       "      <td>25695.350711</td>\n",
       "      <td>21439.527314</td>\n",
       "      <td>896.0</td>\n",
       "      <td>12503.00</td>\n",
       "      <td>19170.0</td>\n",
       "      <td>32076.5</td>\n",
       "      <td>181619.0</td>\n",
       "    </tr>\n",
       "    <tr>\n",
       "      <th rowspan=\"3\" valign=\"top\">2</th>\n",
       "      <th>1</th>\n",
       "      <td>18.0</td>\n",
       "      <td>45265.333333</td>\n",
       "      <td>23213.332660</td>\n",
       "      <td>16982.0</td>\n",
       "      <td>29594.75</td>\n",
       "      <td>39931.0</td>\n",
       "      <td>52083.0</td>\n",
       "      <td>104285.0</td>\n",
       "    </tr>\n",
       "    <tr>\n",
       "      <th>2</th>\n",
       "      <td>19.0</td>\n",
       "      <td>42757.736842</td>\n",
       "      <td>22799.301000</td>\n",
       "      <td>17344.0</td>\n",
       "      <td>28716.00</td>\n",
       "      <td>34422.0</td>\n",
       "      <td>49862.0</td>\n",
       "      <td>119076.0</td>\n",
       "    </tr>\n",
       "    <tr>\n",
       "      <th>3</th>\n",
       "      <td>105.0</td>\n",
       "      <td>45178.761905</td>\n",
       "      <td>30610.688608</td>\n",
       "      <td>14776.0</td>\n",
       "      <td>28770.00</td>\n",
       "      <td>35409.0</td>\n",
       "      <td>49626.0</td>\n",
       "      <td>196947.0</td>\n",
       "    </tr>\n",
       "  </tbody>\n",
       "</table>\n",
       "</div>"
      ],
      "text/plain": [
       "                count          mean           std      min       25%      50%  \\\n",
       "Channel Region                                                                  \n",
       "1       1        59.0  24876.440678  15703.993992   4907.0  15106.50  21163.0   \n",
       "        2        28.0  24578.035714  21719.061431   3607.0  15967.00  21409.5   \n",
       "        3       211.0  25695.350711  21439.527314    896.0  12503.00  19170.0   \n",
       "2       1        18.0  45265.333333  23213.332660  16982.0  29594.75  39931.0   \n",
       "        2        19.0  42757.736842  22799.301000  17344.0  28716.00  34422.0   \n",
       "        3       105.0  45178.761905  30610.688608  14776.0  28770.00  35409.0   \n",
       "\n",
       "                    75%       max  \n",
       "Channel Region                     \n",
       "1       1       28461.5   69922.0  \n",
       "        2       27964.5  125268.0  \n",
       "        3       32076.5  181619.0  \n",
       "2       1       52083.0  104285.0  \n",
       "        2       49862.0  119076.0  \n",
       "        3       49626.0  196947.0  "
      ]
     },
     "execution_count": 12,
     "metadata": {},
     "output_type": "execute_result"
    }
   ],
   "source": [
    "df.groupby(by =[ 'Channel', 'Region'])['Total'].describe()"
   ]
  },
  {
   "cell_type": "raw",
   "id": "363c66bb",
   "metadata": {},
   "source": [
    "For both Channel 1 and 2, Region 3 has more number of whole sale customers. The range(min to max) overlaps  all other regions range. Region 3 alone can be also considered for cluster analysis."
   ]
  },
  {
   "cell_type": "code",
   "execution_count": 13,
   "id": "75bf5276",
   "metadata": {},
   "outputs": [
    {
     "data": {
      "text/html": [
       "<div>\n",
       "<style scoped>\n",
       "    .dataframe tbody tr th:only-of-type {\n",
       "        vertical-align: middle;\n",
       "    }\n",
       "\n",
       "    .dataframe tbody tr th {\n",
       "        vertical-align: top;\n",
       "    }\n",
       "\n",
       "    .dataframe thead th {\n",
       "        text-align: right;\n",
       "    }\n",
       "</style>\n",
       "<table border=\"1\" class=\"dataframe\">\n",
       "  <thead>\n",
       "    <tr style=\"text-align: right;\">\n",
       "      <th></th>\n",
       "      <th>Channel</th>\n",
       "      <th>Region</th>\n",
       "      <th>Fresh</th>\n",
       "      <th>Milk</th>\n",
       "      <th>Grocery</th>\n",
       "      <th>Frozen</th>\n",
       "      <th>Detergents_Paper</th>\n",
       "      <th>Delicassen</th>\n",
       "      <th>Total</th>\n",
       "      <th>Fresh%</th>\n",
       "      <th>Milk%</th>\n",
       "      <th>Grocery%</th>\n",
       "      <th>Frozen%</th>\n",
       "      <th>Detergents_Paper%</th>\n",
       "      <th>Delicassen%</th>\n",
       "    </tr>\n",
       "  </thead>\n",
       "  <tbody>\n",
       "    <tr>\n",
       "      <th>0</th>\n",
       "      <td>2</td>\n",
       "      <td>3</td>\n",
       "      <td>12669</td>\n",
       "      <td>9656</td>\n",
       "      <td>7561</td>\n",
       "      <td>214</td>\n",
       "      <td>2674</td>\n",
       "      <td>1338</td>\n",
       "      <td>32774</td>\n",
       "      <td>38.655642</td>\n",
       "      <td>29.462379</td>\n",
       "      <td>23.070117</td>\n",
       "      <td>0.652957</td>\n",
       "      <td>8.158906</td>\n",
       "      <td>4.082504</td>\n",
       "    </tr>\n",
       "    <tr>\n",
       "      <th>1</th>\n",
       "      <td>2</td>\n",
       "      <td>3</td>\n",
       "      <td>7057</td>\n",
       "      <td>9810</td>\n",
       "      <td>9568</td>\n",
       "      <td>1762</td>\n",
       "      <td>3293</td>\n",
       "      <td>1776</td>\n",
       "      <td>31490</td>\n",
       "      <td>22.410289</td>\n",
       "      <td>31.152747</td>\n",
       "      <td>30.384249</td>\n",
       "      <td>5.595427</td>\n",
       "      <td>10.457288</td>\n",
       "      <td>5.639886</td>\n",
       "    </tr>\n",
       "    <tr>\n",
       "      <th>2</th>\n",
       "      <td>2</td>\n",
       "      <td>3</td>\n",
       "      <td>6353</td>\n",
       "      <td>8808</td>\n",
       "      <td>7684</td>\n",
       "      <td>2405</td>\n",
       "      <td>3516</td>\n",
       "      <td>7844</td>\n",
       "      <td>28766</td>\n",
       "      <td>22.085100</td>\n",
       "      <td>30.619481</td>\n",
       "      <td>26.712091</td>\n",
       "      <td>8.360565</td>\n",
       "      <td>12.222763</td>\n",
       "      <td>27.268303</td>\n",
       "    </tr>\n",
       "    <tr>\n",
       "      <th>3</th>\n",
       "      <td>1</td>\n",
       "      <td>3</td>\n",
       "      <td>13265</td>\n",
       "      <td>1196</td>\n",
       "      <td>4221</td>\n",
       "      <td>6404</td>\n",
       "      <td>507</td>\n",
       "      <td>1788</td>\n",
       "      <td>25593</td>\n",
       "      <td>51.830579</td>\n",
       "      <td>4.673153</td>\n",
       "      <td>16.492791</td>\n",
       "      <td>25.022467</td>\n",
       "      <td>1.981010</td>\n",
       "      <td>6.986285</td>\n",
       "    </tr>\n",
       "    <tr>\n",
       "      <th>4</th>\n",
       "      <td>2</td>\n",
       "      <td>3</td>\n",
       "      <td>22615</td>\n",
       "      <td>5410</td>\n",
       "      <td>7198</td>\n",
       "      <td>3915</td>\n",
       "      <td>1777</td>\n",
       "      <td>5185</td>\n",
       "      <td>40915</td>\n",
       "      <td>55.273127</td>\n",
       "      <td>13.222535</td>\n",
       "      <td>17.592570</td>\n",
       "      <td>9.568618</td>\n",
       "      <td>4.343150</td>\n",
       "      <td>12.672614</td>\n",
       "    </tr>\n",
       "    <tr>\n",
       "      <th>...</th>\n",
       "      <td>...</td>\n",
       "      <td>...</td>\n",
       "      <td>...</td>\n",
       "      <td>...</td>\n",
       "      <td>...</td>\n",
       "      <td>...</td>\n",
       "      <td>...</td>\n",
       "      <td>...</td>\n",
       "      <td>...</td>\n",
       "      <td>...</td>\n",
       "      <td>...</td>\n",
       "      <td>...</td>\n",
       "      <td>...</td>\n",
       "      <td>...</td>\n",
       "      <td>...</td>\n",
       "    </tr>\n",
       "    <tr>\n",
       "      <th>435</th>\n",
       "      <td>1</td>\n",
       "      <td>3</td>\n",
       "      <td>29703</td>\n",
       "      <td>12051</td>\n",
       "      <td>16027</td>\n",
       "      <td>13135</td>\n",
       "      <td>182</td>\n",
       "      <td>2204</td>\n",
       "      <td>71098</td>\n",
       "      <td>41.777546</td>\n",
       "      <td>16.949844</td>\n",
       "      <td>22.542125</td>\n",
       "      <td>18.474500</td>\n",
       "      <td>0.255985</td>\n",
       "      <td>3.099947</td>\n",
       "    </tr>\n",
       "    <tr>\n",
       "      <th>436</th>\n",
       "      <td>1</td>\n",
       "      <td>3</td>\n",
       "      <td>39228</td>\n",
       "      <td>1431</td>\n",
       "      <td>764</td>\n",
       "      <td>4510</td>\n",
       "      <td>93</td>\n",
       "      <td>2346</td>\n",
       "      <td>46026</td>\n",
       "      <td>85.230087</td>\n",
       "      <td>3.109112</td>\n",
       "      <td>1.659931</td>\n",
       "      <td>9.798809</td>\n",
       "      <td>0.202060</td>\n",
       "      <td>5.097119</td>\n",
       "    </tr>\n",
       "    <tr>\n",
       "      <th>437</th>\n",
       "      <td>2</td>\n",
       "      <td>3</td>\n",
       "      <td>14531</td>\n",
       "      <td>15488</td>\n",
       "      <td>30243</td>\n",
       "      <td>437</td>\n",
       "      <td>14841</td>\n",
       "      <td>1867</td>\n",
       "      <td>75540</td>\n",
       "      <td>19.236166</td>\n",
       "      <td>20.503045</td>\n",
       "      <td>40.035743</td>\n",
       "      <td>0.578501</td>\n",
       "      <td>19.646545</td>\n",
       "      <td>2.471538</td>\n",
       "    </tr>\n",
       "    <tr>\n",
       "      <th>438</th>\n",
       "      <td>1</td>\n",
       "      <td>3</td>\n",
       "      <td>10290</td>\n",
       "      <td>1981</td>\n",
       "      <td>2232</td>\n",
       "      <td>1038</td>\n",
       "      <td>168</td>\n",
       "      <td>2125</td>\n",
       "      <td>15709</td>\n",
       "      <td>65.503851</td>\n",
       "      <td>12.610605</td>\n",
       "      <td>14.208416</td>\n",
       "      <td>6.607677</td>\n",
       "      <td>1.069451</td>\n",
       "      <td>13.527277</td>\n",
       "    </tr>\n",
       "    <tr>\n",
       "      <th>439</th>\n",
       "      <td>1</td>\n",
       "      <td>3</td>\n",
       "      <td>2787</td>\n",
       "      <td>1698</td>\n",
       "      <td>2510</td>\n",
       "      <td>65</td>\n",
       "      <td>477</td>\n",
       "      <td>52</td>\n",
       "      <td>7537</td>\n",
       "      <td>36.977577</td>\n",
       "      <td>22.528858</td>\n",
       "      <td>33.302375</td>\n",
       "      <td>0.862412</td>\n",
       "      <td>6.328778</td>\n",
       "      <td>0.689930</td>\n",
       "    </tr>\n",
       "  </tbody>\n",
       "</table>\n",
       "<p>440 rows × 15 columns</p>\n",
       "</div>"
      ],
      "text/plain": [
       "     Channel  Region  Fresh   Milk  Grocery  Frozen  Detergents_Paper  \\\n",
       "0          2       3  12669   9656     7561     214              2674   \n",
       "1          2       3   7057   9810     9568    1762              3293   \n",
       "2          2       3   6353   8808     7684    2405              3516   \n",
       "3          1       3  13265   1196     4221    6404               507   \n",
       "4          2       3  22615   5410     7198    3915              1777   \n",
       "..       ...     ...    ...    ...      ...     ...               ...   \n",
       "435        1       3  29703  12051    16027   13135               182   \n",
       "436        1       3  39228   1431      764    4510                93   \n",
       "437        2       3  14531  15488    30243     437             14841   \n",
       "438        1       3  10290   1981     2232    1038               168   \n",
       "439        1       3   2787   1698     2510      65               477   \n",
       "\n",
       "     Delicassen  Total     Fresh%      Milk%   Grocery%    Frozen%  \\\n",
       "0          1338  32774  38.655642  29.462379  23.070117   0.652957   \n",
       "1          1776  31490  22.410289  31.152747  30.384249   5.595427   \n",
       "2          7844  28766  22.085100  30.619481  26.712091   8.360565   \n",
       "3          1788  25593  51.830579   4.673153  16.492791  25.022467   \n",
       "4          5185  40915  55.273127  13.222535  17.592570   9.568618   \n",
       "..          ...    ...        ...        ...        ...        ...   \n",
       "435        2204  71098  41.777546  16.949844  22.542125  18.474500   \n",
       "436        2346  46026  85.230087   3.109112   1.659931   9.798809   \n",
       "437        1867  75540  19.236166  20.503045  40.035743   0.578501   \n",
       "438        2125  15709  65.503851  12.610605  14.208416   6.607677   \n",
       "439          52   7537  36.977577  22.528858  33.302375   0.862412   \n",
       "\n",
       "     Detergents_Paper%  Delicassen%  \n",
       "0             8.158906     4.082504  \n",
       "1            10.457288     5.639886  \n",
       "2            12.222763    27.268303  \n",
       "3             1.981010     6.986285  \n",
       "4             4.343150    12.672614  \n",
       "..                 ...          ...  \n",
       "435           0.255985     3.099947  \n",
       "436           0.202060     5.097119  \n",
       "437          19.646545     2.471538  \n",
       "438           1.069451    13.527277  \n",
       "439           6.328778     0.689930  \n",
       "\n",
       "[440 rows x 15 columns]"
      ]
     },
     "execution_count": 13,
     "metadata": {},
     "output_type": "execute_result"
    }
   ],
   "source": [
    "# add category percentage for each record\n",
    "cats = ['Fresh', 'Milk', 'Grocery', 'Frozen', 'Detergents_Paper', 'Delicassen']\n",
    "for f in cats:\n",
    "    df[f+'%'] = df[f]*100/df['Total']\n",
    "df    "
   ]
  },
  {
   "cell_type": "code",
   "execution_count": 14,
   "id": "79305fff",
   "metadata": {},
   "outputs": [
    {
     "data": {
      "text/plain": [
       "Channel              0\n",
       "Region               0\n",
       "Fresh                0\n",
       "Milk                 0\n",
       "Grocery              0\n",
       "Frozen               0\n",
       "Detergents_Paper     0\n",
       "Delicassen           0\n",
       "Total                0\n",
       "Fresh%               0\n",
       "Milk%                0\n",
       "Grocery%             0\n",
       "Frozen%              0\n",
       "Detergents_Paper%    0\n",
       "Delicassen%          0\n",
       "dtype: int64"
      ]
     },
     "execution_count": 14,
     "metadata": {},
     "output_type": "execute_result"
    }
   ],
   "source": [
    "df.isna().sum()"
   ]
  },
  {
   "cell_type": "markdown",
   "id": "ae7f9bee",
   "metadata": {},
   "source": [
    "## 2. Try out different clustering models in the Whole sale customer dataset. 3.Find the optimum number of clusters in each model and create the model with the optimum number of clusters."
   ]
  },
  {
   "cell_type": "markdown",
   "id": "b70f2132",
   "metadata": {},
   "source": [
    "### 1.Clustering with ratios"
   ]
  },
  {
   "cell_type": "code",
   "execution_count": 15,
   "id": "db5b55a3",
   "metadata": {},
   "outputs": [
    {
     "data": {
      "text/plain": [
       "Index(['Channel', 'Region', 'Fresh', 'Milk', 'Grocery', 'Frozen',\n",
       "       'Detergents_Paper', 'Delicassen', 'Total', 'Fresh%', 'Milk%',\n",
       "       'Grocery%', 'Frozen%', 'Detergents_Paper%', 'Delicassen%'],\n",
       "      dtype='object')"
      ]
     },
     "execution_count": 15,
     "metadata": {},
     "output_type": "execute_result"
    }
   ],
   "source": [
    "df.columns"
   ]
  },
  {
   "cell_type": "code",
   "execution_count": 16,
   "id": "8c2b36b3",
   "metadata": {},
   "outputs": [
    {
     "data": {
      "text/html": [
       "<div>\n",
       "<style scoped>\n",
       "    .dataframe tbody tr th:only-of-type {\n",
       "        vertical-align: middle;\n",
       "    }\n",
       "\n",
       "    .dataframe tbody tr th {\n",
       "        vertical-align: top;\n",
       "    }\n",
       "\n",
       "    .dataframe thead th {\n",
       "        text-align: right;\n",
       "    }\n",
       "</style>\n",
       "<table border=\"1\" class=\"dataframe\">\n",
       "  <thead>\n",
       "    <tr style=\"text-align: right;\">\n",
       "      <th></th>\n",
       "      <th>Fresh%</th>\n",
       "      <th>Milk%</th>\n",
       "      <th>Grocery%</th>\n",
       "      <th>Frozen%</th>\n",
       "      <th>Detergents_Paper%</th>\n",
       "      <th>Delicassen%</th>\n",
       "    </tr>\n",
       "  </thead>\n",
       "  <tbody>\n",
       "    <tr>\n",
       "      <th>0</th>\n",
       "      <td>38.655642</td>\n",
       "      <td>29.462379</td>\n",
       "      <td>23.070117</td>\n",
       "      <td>0.652957</td>\n",
       "      <td>8.158906</td>\n",
       "      <td>4.082504</td>\n",
       "    </tr>\n",
       "    <tr>\n",
       "      <th>1</th>\n",
       "      <td>22.410289</td>\n",
       "      <td>31.152747</td>\n",
       "      <td>30.384249</td>\n",
       "      <td>5.595427</td>\n",
       "      <td>10.457288</td>\n",
       "      <td>5.639886</td>\n",
       "    </tr>\n",
       "    <tr>\n",
       "      <th>2</th>\n",
       "      <td>22.085100</td>\n",
       "      <td>30.619481</td>\n",
       "      <td>26.712091</td>\n",
       "      <td>8.360565</td>\n",
       "      <td>12.222763</td>\n",
       "      <td>27.268303</td>\n",
       "    </tr>\n",
       "    <tr>\n",
       "      <th>3</th>\n",
       "      <td>51.830579</td>\n",
       "      <td>4.673153</td>\n",
       "      <td>16.492791</td>\n",
       "      <td>25.022467</td>\n",
       "      <td>1.981010</td>\n",
       "      <td>6.986285</td>\n",
       "    </tr>\n",
       "    <tr>\n",
       "      <th>4</th>\n",
       "      <td>55.273127</td>\n",
       "      <td>13.222535</td>\n",
       "      <td>17.592570</td>\n",
       "      <td>9.568618</td>\n",
       "      <td>4.343150</td>\n",
       "      <td>12.672614</td>\n",
       "    </tr>\n",
       "  </tbody>\n",
       "</table>\n",
       "</div>"
      ],
      "text/plain": [
       "      Fresh%      Milk%   Grocery%    Frozen%  Detergents_Paper%  Delicassen%\n",
       "0  38.655642  29.462379  23.070117   0.652957           8.158906     4.082504\n",
       "1  22.410289  31.152747  30.384249   5.595427          10.457288     5.639886\n",
       "2  22.085100  30.619481  26.712091   8.360565          12.222763    27.268303\n",
       "3  51.830579   4.673153  16.492791  25.022467           1.981010     6.986285\n",
       "4  55.273127  13.222535  17.592570   9.568618           4.343150    12.672614"
      ]
     },
     "execution_count": 16,
     "metadata": {},
     "output_type": "execute_result"
    }
   ],
   "source": [
    "df1 = df[['Fresh%', 'Milk%','Grocery%', 'Frozen%', 'Detergents_Paper%', 'Delicassen%']]\n",
    "df1.head()"
   ]
  },
  {
   "cell_type": "code",
   "execution_count": 17,
   "id": "a6af4a78",
   "metadata": {},
   "outputs": [
    {
     "data": {
      "text/plain": [
       "(440, 6)"
      ]
     },
     "execution_count": 17,
     "metadata": {},
     "output_type": "execute_result"
    }
   ],
   "source": [
    "df1.shape"
   ]
  },
  {
   "cell_type": "code",
   "execution_count": 18,
   "id": "5143532b",
   "metadata": {},
   "outputs": [
    {
     "data": {
      "text/plain": [
       "(440, 6)"
      ]
     },
     "execution_count": 18,
     "metadata": {},
     "output_type": "execute_result"
    }
   ],
   "source": [
    "X1 = df1.values\n",
    "X1.shape"
   ]
  },
  {
   "cell_type": "markdown",
   "id": "d5583537",
   "metadata": {},
   "source": [
    "### KMeans clustering"
   ]
  },
  {
   "cell_type": "code",
   "execution_count": 19,
   "id": "04f8548c",
   "metadata": {},
   "outputs": [
    {
     "name": "stdout",
     "output_type": "stream",
     "text": [
      "n: 3, wcss: 185262.76217758097 , Silhouette Score:  0.3643572043437108\n",
      "None\n",
      "n: 4, wcss: 151128.51143238242 , Silhouette Score:  0.3720908350560482\n",
      "None\n",
      "n: 5, wcss: 126133.12603173187 , Silhouette Score:  0.35980879303616625\n",
      "None\n",
      "n: 6, wcss: 111203.81980790026 , Silhouette Score:  0.34530402117837683\n",
      "None\n",
      "n: 7, wcss: 98407.28179430992 , Silhouette Score:  0.3284135375147367\n",
      "None\n"
     ]
    }
   ],
   "source": [
    "from sklearn.cluster import KMeans\n",
    "from sklearn.metrics import silhouette_score\n",
    "\n",
    "wcss = []\n",
    "n =np.arange(3,8)\n",
    "for i in n:\n",
    "    model = KMeans(n_clusters = i, init ='k-means++', random_state = 42)\n",
    "    model.fit(X1)\n",
    "    y = model.fit_predict(X1)\n",
    "    wcss.append(model.inertia_)\n",
    "    print( print('n: {}, wcss: {} , Silhouette Score:  {}'.format(i, wcss[i-3],silhouette_score(X1, y))))\n",
    "    \n"
   ]
  },
  {
   "cell_type": "markdown",
   "id": "ab65882e",
   "metadata": {},
   "source": [
    "As per the above analysis, n =4 is giving the best results, followed by 3, 5,6,7."
   ]
  },
  {
   "cell_type": "markdown",
   "id": "55ef5f09",
   "metadata": {},
   "source": [
    "### Understanding results."
   ]
  },
  {
   "cell_type": "code",
   "execution_count": 20,
   "id": "98a77347",
   "metadata": {},
   "outputs": [],
   "source": [
    "# for 4 clusters\n",
    "nclust=[4,3,5]\n",
    "ypred = {}\n",
    "for n in nclust:\n",
    "    model = KMeans(n_clusters = n, init ='k-means++', random_state = 42)\n",
    "    model.fit(X1)\n",
    "    y = model.fit_predict(X1)\n",
    "    ypred['cluster'+str(n)] = y"
   ]
  },
  {
   "cell_type": "code",
   "execution_count": 21,
   "id": "1851ef31",
   "metadata": {},
   "outputs": [
    {
     "name": "stderr",
     "output_type": "stream",
     "text": [
      "C:\\Users\\zacha\\AppData\\Local\\Temp/ipykernel_10024/1919858997.py:2: SettingWithCopyWarning: \n",
      "A value is trying to be set on a copy of a slice from a DataFrame.\n",
      "Try using .loc[row_indexer,col_indexer] = value instead\n",
      "\n",
      "See the caveats in the documentation: https://pandas.pydata.org/pandas-docs/stable/user_guide/indexing.html#returning-a-view-versus-a-copy\n",
      "  df1[y] = ypred[y]\n"
     ]
    },
    {
     "data": {
      "text/html": [
       "<div>\n",
       "<style scoped>\n",
       "    .dataframe tbody tr th:only-of-type {\n",
       "        vertical-align: middle;\n",
       "    }\n",
       "\n",
       "    .dataframe tbody tr th {\n",
       "        vertical-align: top;\n",
       "    }\n",
       "\n",
       "    .dataframe thead th {\n",
       "        text-align: right;\n",
       "    }\n",
       "</style>\n",
       "<table border=\"1\" class=\"dataframe\">\n",
       "  <thead>\n",
       "    <tr style=\"text-align: right;\">\n",
       "      <th></th>\n",
       "      <th>Fresh%</th>\n",
       "      <th>Milk%</th>\n",
       "      <th>Grocery%</th>\n",
       "      <th>Frozen%</th>\n",
       "      <th>Detergents_Paper%</th>\n",
       "      <th>Delicassen%</th>\n",
       "      <th>cluster4</th>\n",
       "      <th>cluster3</th>\n",
       "      <th>cluster5</th>\n",
       "    </tr>\n",
       "  </thead>\n",
       "  <tbody>\n",
       "    <tr>\n",
       "      <th>0</th>\n",
       "      <td>38.655642</td>\n",
       "      <td>29.462379</td>\n",
       "      <td>23.070117</td>\n",
       "      <td>0.652957</td>\n",
       "      <td>8.158906</td>\n",
       "      <td>4.082504</td>\n",
       "      <td>0</td>\n",
       "      <td>2</td>\n",
       "      <td>3</td>\n",
       "    </tr>\n",
       "    <tr>\n",
       "      <th>1</th>\n",
       "      <td>22.410289</td>\n",
       "      <td>31.152747</td>\n",
       "      <td>30.384249</td>\n",
       "      <td>5.595427</td>\n",
       "      <td>10.457288</td>\n",
       "      <td>5.639886</td>\n",
       "      <td>1</td>\n",
       "      <td>1</td>\n",
       "      <td>0</td>\n",
       "    </tr>\n",
       "    <tr>\n",
       "      <th>2</th>\n",
       "      <td>22.085100</td>\n",
       "      <td>30.619481</td>\n",
       "      <td>26.712091</td>\n",
       "      <td>8.360565</td>\n",
       "      <td>12.222763</td>\n",
       "      <td>27.268303</td>\n",
       "      <td>0</td>\n",
       "      <td>1</td>\n",
       "      <td>0</td>\n",
       "    </tr>\n",
       "    <tr>\n",
       "      <th>3</th>\n",
       "      <td>51.830579</td>\n",
       "      <td>4.673153</td>\n",
       "      <td>16.492791</td>\n",
       "      <td>25.022467</td>\n",
       "      <td>1.981010</td>\n",
       "      <td>6.986285</td>\n",
       "      <td>3</td>\n",
       "      <td>2</td>\n",
       "      <td>1</td>\n",
       "    </tr>\n",
       "    <tr>\n",
       "      <th>4</th>\n",
       "      <td>55.273127</td>\n",
       "      <td>13.222535</td>\n",
       "      <td>17.592570</td>\n",
       "      <td>9.568618</td>\n",
       "      <td>4.343150</td>\n",
       "      <td>12.672614</td>\n",
       "      <td>2</td>\n",
       "      <td>2</td>\n",
       "      <td>3</td>\n",
       "    </tr>\n",
       "  </tbody>\n",
       "</table>\n",
       "</div>"
      ],
      "text/plain": [
       "      Fresh%      Milk%   Grocery%    Frozen%  Detergents_Paper%  Delicassen%  \\\n",
       "0  38.655642  29.462379  23.070117   0.652957           8.158906     4.082504   \n",
       "1  22.410289  31.152747  30.384249   5.595427          10.457288     5.639886   \n",
       "2  22.085100  30.619481  26.712091   8.360565          12.222763    27.268303   \n",
       "3  51.830579   4.673153  16.492791  25.022467           1.981010     6.986285   \n",
       "4  55.273127  13.222535  17.592570   9.568618           4.343150    12.672614   \n",
       "\n",
       "   cluster4  cluster3  cluster5  \n",
       "0         0         2         3  \n",
       "1         1         1         0  \n",
       "2         0         1         0  \n",
       "3         3         2         1  \n",
       "4         2         2         3  "
      ]
     },
     "execution_count": 21,
     "metadata": {},
     "output_type": "execute_result"
    }
   ],
   "source": [
    "for y in ypred:\n",
    "    df1[y] = ypred[y]\n",
    "df1.head()    "
   ]
  },
  {
   "cell_type": "code",
   "execution_count": 22,
   "id": "000de800",
   "metadata": {
    "scrolled": true
   },
   "outputs": [
    {
     "name": "stderr",
     "output_type": "stream",
     "text": [
      "C:\\Users\\zacha\\AppData\\Local\\Temp/ipykernel_10024/3669842606.py:1: FutureWarning: Indexing with multiple keys (implicitly converted to a tuple of keys) will be deprecated, use a list instead.\n",
      "  df1.groupby('cluster4')['Fresh%', 'Milk%','Grocery%', 'Frozen%', 'Detergents_Paper%', 'Delicassen%'].mean().T\n"
     ]
    },
    {
     "data": {
      "text/html": [
       "<div>\n",
       "<style scoped>\n",
       "    .dataframe tbody tr th:only-of-type {\n",
       "        vertical-align: middle;\n",
       "    }\n",
       "\n",
       "    .dataframe tbody tr th {\n",
       "        vertical-align: top;\n",
       "    }\n",
       "\n",
       "    .dataframe thead th {\n",
       "        text-align: right;\n",
       "    }\n",
       "</style>\n",
       "<table border=\"1\" class=\"dataframe\">\n",
       "  <thead>\n",
       "    <tr style=\"text-align: right;\">\n",
       "      <th>cluster4</th>\n",
       "      <th>0</th>\n",
       "      <th>1</th>\n",
       "      <th>2</th>\n",
       "      <th>3</th>\n",
       "    </tr>\n",
       "  </thead>\n",
       "  <tbody>\n",
       "    <tr>\n",
       "      <th>Fresh%</th>\n",
       "      <td>39.542393</td>\n",
       "      <td>10.138204</td>\n",
       "      <td>69.165368</td>\n",
       "      <td>35.847422</td>\n",
       "    </tr>\n",
       "    <tr>\n",
       "      <th>Milk%</th>\n",
       "      <td>20.908506</td>\n",
       "      <td>27.734410</td>\n",
       "      <td>8.102775</td>\n",
       "      <td>12.640523</td>\n",
       "    </tr>\n",
       "    <tr>\n",
       "      <th>Grocery%</th>\n",
       "      <td>25.291414</td>\n",
       "      <td>41.240236</td>\n",
       "      <td>10.790842</td>\n",
       "      <td>14.754534</td>\n",
       "    </tr>\n",
       "    <tr>\n",
       "      <th>Frozen%</th>\n",
       "      <td>6.524907</td>\n",
       "      <td>4.829868</td>\n",
       "      <td>10.053455</td>\n",
       "      <td>34.147121</td>\n",
       "    </tr>\n",
       "    <tr>\n",
       "      <th>Detergents_Paper%</th>\n",
       "      <td>7.732781</td>\n",
       "      <td>16.057282</td>\n",
       "      <td>1.887561</td>\n",
       "      <td>2.610401</td>\n",
       "    </tr>\n",
       "    <tr>\n",
       "      <th>Delicassen%</th>\n",
       "      <td>7.649777</td>\n",
       "      <td>4.603505</td>\n",
       "      <td>4.146246</td>\n",
       "      <td>5.772773</td>\n",
       "    </tr>\n",
       "  </tbody>\n",
       "</table>\n",
       "</div>"
      ],
      "text/plain": [
       "cluster4                   0          1          2          3\n",
       "Fresh%             39.542393  10.138204  69.165368  35.847422\n",
       "Milk%              20.908506  27.734410   8.102775  12.640523\n",
       "Grocery%           25.291414  41.240236  10.790842  14.754534\n",
       "Frozen%             6.524907   4.829868  10.053455  34.147121\n",
       "Detergents_Paper%   7.732781  16.057282   1.887561   2.610401\n",
       "Delicassen%         7.649777   4.603505   4.146246   5.772773"
      ]
     },
     "execution_count": 22,
     "metadata": {},
     "output_type": "execute_result"
    }
   ],
   "source": [
    "df1.groupby('cluster4')['Fresh%', 'Milk%','Grocery%', 'Frozen%', 'Detergents_Paper%', 'Delicassen%'].mean().T"
   ]
  },
  {
   "cell_type": "code",
   "execution_count": 23,
   "id": "5021fe22",
   "metadata": {},
   "outputs": [
    {
     "name": "stderr",
     "output_type": "stream",
     "text": [
      "C:\\Users\\zacha\\AppData\\Local\\Temp/ipykernel_10024/3053125322.py:1: FutureWarning: Indexing with multiple keys (implicitly converted to a tuple of keys) will be deprecated, use a list instead.\n",
      "  df1.groupby('cluster3')['Fresh%', 'Milk%','Grocery%', 'Frozen%', 'Detergents_Paper%', 'Delicassen%'].mean().T\n"
     ]
    },
    {
     "data": {
      "text/html": [
       "<div>\n",
       "<style scoped>\n",
       "    .dataframe tbody tr th:only-of-type {\n",
       "        vertical-align: middle;\n",
       "    }\n",
       "\n",
       "    .dataframe tbody tr th {\n",
       "        vertical-align: top;\n",
       "    }\n",
       "\n",
       "    .dataframe thead th {\n",
       "        text-align: right;\n",
       "    }\n",
       "</style>\n",
       "<table border=\"1\" class=\"dataframe\">\n",
       "  <thead>\n",
       "    <tr style=\"text-align: right;\">\n",
       "      <th>cluster3</th>\n",
       "      <th>0</th>\n",
       "      <th>1</th>\n",
       "      <th>2</th>\n",
       "    </tr>\n",
       "  </thead>\n",
       "  <tbody>\n",
       "    <tr>\n",
       "      <th>Fresh%</th>\n",
       "      <td>70.295887</td>\n",
       "      <td>12.501685</td>\n",
       "      <td>41.334807</td>\n",
       "    </tr>\n",
       "    <tr>\n",
       "      <th>Milk%</th>\n",
       "      <td>7.933877</td>\n",
       "      <td>27.435854</td>\n",
       "      <td>15.583642</td>\n",
       "    </tr>\n",
       "    <tr>\n",
       "      <th>Grocery%</th>\n",
       "      <td>10.740131</td>\n",
       "      <td>39.362643</td>\n",
       "      <td>18.942547</td>\n",
       "    </tr>\n",
       "    <tr>\n",
       "      <th>Frozen%</th>\n",
       "      <td>9.207760</td>\n",
       "      <td>5.394930</td>\n",
       "      <td>19.656776</td>\n",
       "    </tr>\n",
       "    <tr>\n",
       "      <th>Detergents_Paper%</th>\n",
       "      <td>1.822345</td>\n",
       "      <td>15.304888</td>\n",
       "      <td>4.482228</td>\n",
       "    </tr>\n",
       "    <tr>\n",
       "      <th>Delicassen%</th>\n",
       "      <td>4.100673</td>\n",
       "      <td>5.388595</td>\n",
       "      <td>6.223824</td>\n",
       "    </tr>\n",
       "  </tbody>\n",
       "</table>\n",
       "</div>"
      ],
      "text/plain": [
       "cluster3                   0          1          2\n",
       "Fresh%             70.295887  12.501685  41.334807\n",
       "Milk%               7.933877  27.435854  15.583642\n",
       "Grocery%           10.740131  39.362643  18.942547\n",
       "Frozen%             9.207760   5.394930  19.656776\n",
       "Detergents_Paper%   1.822345  15.304888   4.482228\n",
       "Delicassen%         4.100673   5.388595   6.223824"
      ]
     },
     "execution_count": 23,
     "metadata": {},
     "output_type": "execute_result"
    }
   ],
   "source": [
    "df1.groupby('cluster3')['Fresh%', 'Milk%','Grocery%', 'Frozen%', 'Detergents_Paper%', 'Delicassen%'].mean().T"
   ]
  },
  {
   "cell_type": "code",
   "execution_count": 24,
   "id": "9d451008",
   "metadata": {},
   "outputs": [
    {
     "name": "stderr",
     "output_type": "stream",
     "text": [
      "C:\\Users\\zacha\\AppData\\Local\\Temp/ipykernel_10024/1983246502.py:1: FutureWarning: Indexing with multiple keys (implicitly converted to a tuple of keys) will be deprecated, use a list instead.\n",
      "  df1.groupby('cluster5')['Fresh%', 'Milk%','Grocery%', 'Frozen%', 'Detergents_Paper%', 'Delicassen%'].mean().T\n"
     ]
    },
    {
     "data": {
      "text/html": [
       "<div>\n",
       "<style scoped>\n",
       "    .dataframe tbody tr th:only-of-type {\n",
       "        vertical-align: middle;\n",
       "    }\n",
       "\n",
       "    .dataframe tbody tr th {\n",
       "        vertical-align: top;\n",
       "    }\n",
       "\n",
       "    .dataframe thead th {\n",
       "        text-align: right;\n",
       "    }\n",
       "</style>\n",
       "<table border=\"1\" class=\"dataframe\">\n",
       "  <thead>\n",
       "    <tr style=\"text-align: right;\">\n",
       "      <th>cluster5</th>\n",
       "      <th>0</th>\n",
       "      <th>1</th>\n",
       "      <th>2</th>\n",
       "      <th>3</th>\n",
       "      <th>4</th>\n",
       "    </tr>\n",
       "  </thead>\n",
       "  <tbody>\n",
       "    <tr>\n",
       "      <th>Fresh%</th>\n",
       "      <td>15.874519</td>\n",
       "      <td>40.010675</td>\n",
       "      <td>70.217851</td>\n",
       "      <td>41.824909</td>\n",
       "      <td>9.438021</td>\n",
       "    </tr>\n",
       "    <tr>\n",
       "      <th>Milk%</th>\n",
       "      <td>39.377614</td>\n",
       "      <td>10.555394</td>\n",
       "      <td>7.992140</td>\n",
       "      <td>18.269236</td>\n",
       "      <td>23.235636</td>\n",
       "    </tr>\n",
       "    <tr>\n",
       "      <th>Grocery%</th>\n",
       "      <td>26.915133</td>\n",
       "      <td>13.834098</td>\n",
       "      <td>10.678092</td>\n",
       "      <td>25.826738</td>\n",
       "      <td>44.969045</td>\n",
       "    </tr>\n",
       "    <tr>\n",
       "      <th>Frozen%</th>\n",
       "      <td>10.652302</td>\n",
       "      <td>33.141672</td>\n",
       "      <td>9.224087</td>\n",
       "      <td>5.971056</td>\n",
       "      <td>3.852985</td>\n",
       "    </tr>\n",
       "    <tr>\n",
       "      <th>Detergents_Paper%</th>\n",
       "      <td>7.180432</td>\n",
       "      <td>2.458161</td>\n",
       "      <td>1.887831</td>\n",
       "      <td>8.108060</td>\n",
       "      <td>18.504313</td>\n",
       "    </tr>\n",
       "    <tr>\n",
       "      <th>Delicassen%</th>\n",
       "      <td>10.422905</td>\n",
       "      <td>4.947752</td>\n",
       "      <td>3.984708</td>\n",
       "      <td>5.856630</td>\n",
       "      <td>4.039691</td>\n",
       "    </tr>\n",
       "  </tbody>\n",
       "</table>\n",
       "</div>"
      ],
      "text/plain": [
       "cluster5                   0          1          2          3          4\n",
       "Fresh%             15.874519  40.010675  70.217851  41.824909   9.438021\n",
       "Milk%              39.377614  10.555394   7.992140  18.269236  23.235636\n",
       "Grocery%           26.915133  13.834098  10.678092  25.826738  44.969045\n",
       "Frozen%            10.652302  33.141672   9.224087   5.971056   3.852985\n",
       "Detergents_Paper%   7.180432   2.458161   1.887831   8.108060  18.504313\n",
       "Delicassen%        10.422905   4.947752   3.984708   5.856630   4.039691"
      ]
     },
     "execution_count": 24,
     "metadata": {},
     "output_type": "execute_result"
    }
   ],
   "source": [
    "df1.groupby('cluster5')['Fresh%', 'Milk%','Grocery%', 'Frozen%', 'Detergents_Paper%', 'Delicassen%'].mean().T"
   ]
  },
  {
   "cell_type": "code",
   "execution_count": 25,
   "id": "19addd70",
   "metadata": {},
   "outputs": [
    {
     "data": {
      "text/plain": [
       "<seaborn.axisgrid.FacetGrid at 0x1e37a8834f0>"
      ]
     },
     "execution_count": 25,
     "metadata": {},
     "output_type": "execute_result"
    },
    {
     "data": {
      "image/png": "[encoded data removed]",
      "text/plain": [
       "<Figure size 1440x360 with 4 Axes>"
      ]
     },
     "metadata": {
      "needs_background": "light"
     },
     "output_type": "display_data"
    }
   ],
   "source": [
    "sns.catplot(data=df1,orient ='h' , palette=\"Set2\", col = 'cluster4')"
   ]
  },
  {
   "cell_type": "code",
   "execution_count": 26,
   "id": "93cdc40e",
   "metadata": {},
   "outputs": [
    {
     "data": {
      "text/plain": [
       "<seaborn.axisgrid.FacetGrid at 0x1e37b9e4400>"
      ]
     },
     "execution_count": 26,
     "metadata": {},
     "output_type": "execute_result"
    },
    {
     "data": {
      "image/png": "[encoded data removed]",
      "text/plain": [
       "<Figure size 1080x360 with 3 Axes>"
      ]
     },
     "metadata": {
      "needs_background": "light"
     },
     "output_type": "display_data"
    }
   ],
   "source": [
    "sns.catplot(data=df1,orient ='h' , palette=\"Set2\", col = 'cluster3')"
   ]
  },
  {
   "cell_type": "code",
   "execution_count": 27,
   "id": "2684808e",
   "metadata": {},
   "outputs": [
    {
     "data": {
      "text/plain": [
       "<seaborn.axisgrid.FacetGrid at 0x1e37bec8a60>"
      ]
     },
     "execution_count": 27,
     "metadata": {},
     "output_type": "execute_result"
    },
    {
     "data": {
      "image/png": "[encoded data removed]",
      "text/plain": [
       "<Figure size 1800x360 with 5 Axes>"
      ]
     },
     "metadata": {
      "needs_background": "light"
     },
     "output_type": "display_data"
    }
   ],
   "source": [
    "sns.catplot(data=df1,orient ='h' , palette=\"Set2\", col = 'cluster5')"
   ]
  },
  {
   "cell_type": "markdown",
   "id": "6126220e",
   "metadata": {},
   "source": [
    "### Clustering without delicassen."
   ]
  },
  {
   "cell_type": "markdown",
   "id": "5c3f9bee",
   "metadata": {},
   "source": [
    "Delicassen column has many outliers.It can be grouped as a seperate cluster. For further analysis we can drop delicassen column"
   ]
  },
  {
   "cell_type": "code",
   "execution_count": 28,
   "id": "969d8eb4",
   "metadata": {},
   "outputs": [],
   "source": [
    "df2 = df[['Fresh%', 'Milk%','Grocery%', 'Frozen%', 'Detergents_Paper%']]"
   ]
  },
  {
   "cell_type": "code",
   "execution_count": 29,
   "id": "a486ed65",
   "metadata": {},
   "outputs": [
    {
     "data": {
      "text/plain": [
       "(440, 5)"
      ]
     },
     "execution_count": 29,
     "metadata": {},
     "output_type": "execute_result"
    }
   ],
   "source": [
    "df2.shape"
   ]
  },
  {
   "cell_type": "code",
   "execution_count": 30,
   "id": "c5626227",
   "metadata": {},
   "outputs": [
    {
     "data": {
      "text/plain": [
       "(440, 5)"
      ]
     },
     "execution_count": 30,
     "metadata": {},
     "output_type": "execute_result"
    }
   ],
   "source": [
    "X2 = df2.values\n",
    "X2.shape\n"
   ]
  },
  {
   "cell_type": "markdown",
   "id": "cf7be00e",
   "metadata": {},
   "source": [
    "## KMeans clustering without considering 'Delicassen'"
   ]
  },
  {
   "cell_type": "code",
   "execution_count": 31,
   "id": "39f71f8a",
   "metadata": {},
   "outputs": [
    {
     "name": "stdout",
     "output_type": "stream",
     "text": [
      "n: 3, wcss: 172391.2398756573 , Silhouette Score:  0.37841161608084495\n",
      "None\n",
      "n: 4, wcss: 138415.05544714705 , Silhouette Score:  0.3827256745385162\n",
      "None\n",
      "n: 5, wcss: 114563.16696509765 , Silhouette Score:  0.36939716953378027\n",
      "None\n",
      "n: 6, wcss: 99687.70365507899 , Silhouette Score:  0.3507526705163483\n",
      "None\n",
      "n: 7, wcss: 86990.0837929207 , Silhouette Score:  0.34656651073369366\n",
      "None\n"
     ]
    }
   ],
   "source": [
    "wcss = []\n",
    "n =np.arange(3,8)\n",
    "for i in n:\n",
    "    model = KMeans(n_clusters = i, init ='k-means++', random_state = 42)\n",
    "    model.fit(X2)\n",
    "    y = model.fit_predict(X2)\n",
    "    wcss.append(model.inertia_)\n",
    "    print( print('n: {}, wcss: {} , Silhouette Score:  {}'.format(i, wcss[i-3],silhouette_score(X2, y))))"
   ]
  },
  {
   "cell_type": "markdown",
   "id": "a5791176",
   "metadata": {},
   "source": [
    "As per the above data, n = 4 has best score, followed by 3,5,6,7"
   ]
  },
  {
   "cell_type": "markdown",
   "id": "4cd4ce17",
   "metadata": {},
   "source": [
    "## HC clustering with original values on Channel 2 Region 3"
   ]
  },
  {
   "cell_type": "markdown",
   "id": "f7abf842",
   "metadata": {},
   "source": [
    "We will consider channel 2 region 3 for HC cluster analysis.We can understand dendogram clearly if the datapoints are less."
   ]
  },
  {
   "cell_type": "code",
   "execution_count": 32,
   "id": "2fbae25c",
   "metadata": {},
   "outputs": [
    {
     "data": {
      "text/plain": [
       "Index(['Channel', 'Region', 'Fresh', 'Milk', 'Grocery', 'Frozen',\n",
       "       'Detergents_Paper', 'Delicassen', 'Total', 'Fresh%', 'Milk%',\n",
       "       'Grocery%', 'Frozen%', 'Detergents_Paper%', 'Delicassen%'],\n",
       "      dtype='object')"
      ]
     },
     "execution_count": 32,
     "metadata": {},
     "output_type": "execute_result"
    }
   ],
   "source": [
    "df.columns"
   ]
  },
  {
   "cell_type": "code",
   "execution_count": 33,
   "id": "d96539a7",
   "metadata": {},
   "outputs": [
    {
     "data": {
      "text/html": [
       "<div>\n",
       "<style scoped>\n",
       "    .dataframe tbody tr th:only-of-type {\n",
       "        vertical-align: middle;\n",
       "    }\n",
       "\n",
       "    .dataframe tbody tr th {\n",
       "        vertical-align: top;\n",
       "    }\n",
       "\n",
       "    .dataframe thead th {\n",
       "        text-align: right;\n",
       "    }\n",
       "</style>\n",
       "<table border=\"1\" class=\"dataframe\">\n",
       "  <thead>\n",
       "    <tr style=\"text-align: right;\">\n",
       "      <th></th>\n",
       "      <th>Fresh</th>\n",
       "      <th>Milk</th>\n",
       "      <th>Grocery</th>\n",
       "      <th>Frozen</th>\n",
       "      <th>Detergents_Paper</th>\n",
       "      <th>Delicassen</th>\n",
       "    </tr>\n",
       "  </thead>\n",
       "  <tbody>\n",
       "    <tr>\n",
       "      <th>0</th>\n",
       "      <td>12669</td>\n",
       "      <td>9656</td>\n",
       "      <td>7561</td>\n",
       "      <td>214</td>\n",
       "      <td>2674</td>\n",
       "      <td>1338</td>\n",
       "    </tr>\n",
       "    <tr>\n",
       "      <th>1</th>\n",
       "      <td>7057</td>\n",
       "      <td>9810</td>\n",
       "      <td>9568</td>\n",
       "      <td>1762</td>\n",
       "      <td>3293</td>\n",
       "      <td>1776</td>\n",
       "    </tr>\n",
       "    <tr>\n",
       "      <th>2</th>\n",
       "      <td>6353</td>\n",
       "      <td>8808</td>\n",
       "      <td>7684</td>\n",
       "      <td>2405</td>\n",
       "      <td>3516</td>\n",
       "      <td>7844</td>\n",
       "    </tr>\n",
       "    <tr>\n",
       "      <th>4</th>\n",
       "      <td>22615</td>\n",
       "      <td>5410</td>\n",
       "      <td>7198</td>\n",
       "      <td>3915</td>\n",
       "      <td>1777</td>\n",
       "      <td>5185</td>\n",
       "    </tr>\n",
       "    <tr>\n",
       "      <th>5</th>\n",
       "      <td>9413</td>\n",
       "      <td>8259</td>\n",
       "      <td>5126</td>\n",
       "      <td>666</td>\n",
       "      <td>1795</td>\n",
       "      <td>1451</td>\n",
       "    </tr>\n",
       "    <tr>\n",
       "      <th>...</th>\n",
       "      <td>...</td>\n",
       "      <td>...</td>\n",
       "      <td>...</td>\n",
       "      <td>...</td>\n",
       "      <td>...</td>\n",
       "      <td>...</td>\n",
       "    </tr>\n",
       "    <tr>\n",
       "      <th>418</th>\n",
       "      <td>660</td>\n",
       "      <td>8494</td>\n",
       "      <td>18622</td>\n",
       "      <td>133</td>\n",
       "      <td>6740</td>\n",
       "      <td>776</td>\n",
       "    </tr>\n",
       "    <tr>\n",
       "      <th>421</th>\n",
       "      <td>17063</td>\n",
       "      <td>4847</td>\n",
       "      <td>9053</td>\n",
       "      <td>1031</td>\n",
       "      <td>3415</td>\n",
       "      <td>1784</td>\n",
       "    </tr>\n",
       "    <tr>\n",
       "      <th>423</th>\n",
       "      <td>17565</td>\n",
       "      <td>3686</td>\n",
       "      <td>4657</td>\n",
       "      <td>1059</td>\n",
       "      <td>1803</td>\n",
       "      <td>668</td>\n",
       "    </tr>\n",
       "    <tr>\n",
       "      <th>424</th>\n",
       "      <td>16980</td>\n",
       "      <td>2884</td>\n",
       "      <td>12232</td>\n",
       "      <td>874</td>\n",
       "      <td>3213</td>\n",
       "      <td>249</td>\n",
       "    </tr>\n",
       "    <tr>\n",
       "      <th>437</th>\n",
       "      <td>14531</td>\n",
       "      <td>15488</td>\n",
       "      <td>30243</td>\n",
       "      <td>437</td>\n",
       "      <td>14841</td>\n",
       "      <td>1867</td>\n",
       "    </tr>\n",
       "  </tbody>\n",
       "</table>\n",
       "<p>105 rows × 6 columns</p>\n",
       "</div>"
      ],
      "text/plain": [
       "     Fresh   Milk  Grocery  Frozen  Detergents_Paper  Delicassen\n",
       "0    12669   9656     7561     214              2674        1338\n",
       "1     7057   9810     9568    1762              3293        1776\n",
       "2     6353   8808     7684    2405              3516        7844\n",
       "4    22615   5410     7198    3915              1777        5185\n",
       "5     9413   8259     5126     666              1795        1451\n",
       "..     ...    ...      ...     ...               ...         ...\n",
       "418    660   8494    18622     133              6740         776\n",
       "421  17063   4847     9053    1031              3415        1784\n",
       "423  17565   3686     4657    1059              1803         668\n",
       "424  16980   2884    12232     874              3213         249\n",
       "437  14531  15488    30243     437             14841        1867\n",
       "\n",
       "[105 rows x 6 columns]"
      ]
     },
     "execution_count": 33,
     "metadata": {},
     "output_type": "execute_result"
    }
   ],
   "source": [
    "df3 = df[(df['Channel']==2) & (df['Region']==3)][['Fresh', 'Milk','Grocery', 'Frozen', 'Detergents_Paper', 'Delicassen']]\n",
    "df3"
   ]
  },
  {
   "cell_type": "code",
   "execution_count": 34,
   "id": "ceac23f6",
   "metadata": {},
   "outputs": [
    {
     "data": {
      "text/plain": [
       "(105, 6)"
      ]
     },
     "execution_count": 34,
     "metadata": {},
     "output_type": "execute_result"
    }
   ],
   "source": [
    "X3 =df3.values\n",
    "X3.shape"
   ]
  },
  {
   "cell_type": "code",
   "execution_count": 35,
   "id": "863d774f",
   "metadata": {},
   "outputs": [
    {
     "data": {
      "image/png": "[encoded data removed]",
      "text/plain": [
       "<Figure size 1440x432 with 1 Axes>"
      ]
     },
     "metadata": {
      "needs_background": "light"
     },
     "output_type": "display_data"
    }
   ],
   "source": [
    "import scipy.cluster.hierarchy as sch\n",
    "plt.figure(figsize = (20,6))\n",
    "dendrogram1 = sch.dendrogram(sch.linkage(X3,method ='ward'))\n",
    "plt.title('Dendrogram1 ward')\n",
    "plt.xlabel('Clusters')\n",
    "plt.xticks(fontsize =10)\n",
    "plt.ylabel('Eucledian distance')\n",
    "plt.show()"
   ]
  },
  {
   "cell_type": "code",
   "execution_count": 36,
   "id": "52e9f628",
   "metadata": {},
   "outputs": [
    {
     "name": "stdout",
     "output_type": "stream",
     "text": [
      "Silhouette Score(n=3): 0.4544213441147491\n",
      "Silhouette Score(n=4): 0.3759369295690547\n",
      "Silhouette Score(n=5): 0.37459436953784947\n",
      "Silhouette Score(n=6): 0.28605536231384876\n",
      "Silhouette Score(n=7): 0.2873638109446867\n"
     ]
    }
   ],
   "source": [
    "from sklearn.cluster import AgglomerativeClustering\n",
    "nc= np.arange(3,8)\n",
    "for n in nc:\n",
    "    hc1 = AgglomerativeClustering(n_clusters = n, affinity ='euclidean', linkage ='ward')\n",
    "    y_hc1 = hc1.fit_predict(X3)\n",
    "    print('Silhouette Score(n={}): {}'.format(n,silhouette_score(X3, y_hc1)))"
   ]
  },
  {
   "cell_type": "code",
   "execution_count": 37,
   "id": "19edfe7a",
   "metadata": {},
   "outputs": [],
   "source": [
    "#n = 3 has the best score.\n",
    "hc1 = AgglomerativeClustering(n_clusters = 3, affinity ='euclidean', linkage ='ward')\n",
    "y_hc1 = hc1.fit_predict(X3)"
   ]
  },
  {
   "cell_type": "code",
   "execution_count": 38,
   "id": "e903d102",
   "metadata": {},
   "outputs": [
    {
     "name": "stderr",
     "output_type": "stream",
     "text": [
      "C:\\Users\\zacha\\AppData\\Local\\Temp/ipykernel_10024/3407015213.py:2: FutureWarning: Indexing with multiple keys (implicitly converted to a tuple of keys) will be deprecated, use a list instead.\n",
      "  df3.groupby('cluster3')['Fresh', 'Milk','Grocery', 'Frozen', 'Detergents_Paper', 'Delicassen'].mean().T\n"
     ]
    },
    {
     "data": {
      "text/html": [
       "<div>\n",
       "<style scoped>\n",
       "    .dataframe tbody tr th:only-of-type {\n",
       "        vertical-align: middle;\n",
       "    }\n",
       "\n",
       "    .dataframe tbody tr th {\n",
       "        vertical-align: top;\n",
       "    }\n",
       "\n",
       "    .dataframe thead th {\n",
       "        text-align: right;\n",
       "    }\n",
       "</style>\n",
       "<table border=\"1\" class=\"dataframe\">\n",
       "  <thead>\n",
       "    <tr style=\"text-align: right;\">\n",
       "      <th>cluster3</th>\n",
       "      <th>0</th>\n",
       "      <th>1</th>\n",
       "      <th>2</th>\n",
       "    </tr>\n",
       "  </thead>\n",
       "  <tbody>\n",
       "    <tr>\n",
       "      <th>Fresh</th>\n",
       "      <td>9124.215909</td>\n",
       "      <td>29862.50</td>\n",
       "      <td>8455.923077</td>\n",
       "    </tr>\n",
       "    <tr>\n",
       "      <th>Milk</th>\n",
       "      <td>7580.806818</td>\n",
       "      <td>53080.75</td>\n",
       "      <td>21044.000000</td>\n",
       "    </tr>\n",
       "    <tr>\n",
       "      <th>Grocery</th>\n",
       "      <td>12075.954545</td>\n",
       "      <td>60015.75</td>\n",
       "      <td>28646.384615</td>\n",
       "    </tr>\n",
       "    <tr>\n",
       "      <th>Frozen</th>\n",
       "      <td>1421.181818</td>\n",
       "      <td>3262.25</td>\n",
       "      <td>1597.923077</td>\n",
       "    </tr>\n",
       "    <tr>\n",
       "      <th>Detergents_Paper</th>\n",
       "      <td>5171.545455</td>\n",
       "      <td>27942.25</td>\n",
       "      <td>12119.615385</td>\n",
       "    </tr>\n",
       "    <tr>\n",
       "      <th>Delicassen</th>\n",
       "      <td>1473.272727</td>\n",
       "      <td>3082.25</td>\n",
       "      <td>3828.846154</td>\n",
       "    </tr>\n",
       "  </tbody>\n",
       "</table>\n",
       "</div>"
      ],
      "text/plain": [
       "cluster3                     0         1             2\n",
       "Fresh              9124.215909  29862.50   8455.923077\n",
       "Milk               7580.806818  53080.75  21044.000000\n",
       "Grocery           12075.954545  60015.75  28646.384615\n",
       "Frozen             1421.181818   3262.25   1597.923077\n",
       "Detergents_Paper   5171.545455  27942.25  12119.615385\n",
       "Delicassen         1473.272727   3082.25   3828.846154"
      ]
     },
     "execution_count": 38,
     "metadata": {},
     "output_type": "execute_result"
    }
   ],
   "source": [
    "df3['cluster3'] = y_hc1\n",
    "df3.groupby('cluster3')['Fresh', 'Milk','Grocery', 'Frozen', 'Detergents_Paper', 'Delicassen'].mean().T"
   ]
  },
  {
   "cell_type": "code",
   "execution_count": 39,
   "id": "e078a2af",
   "metadata": {},
   "outputs": [
    {
     "data": {
      "text/plain": [
       "<seaborn.axisgrid.FacetGrid at 0x1e37a847dc0>"
      ]
     },
     "execution_count": 39,
     "metadata": {},
     "output_type": "execute_result"
    },
    {
     "data": {
      "image/png": "[encoded data removed]",
      "text/plain": [
       "<Figure size 1080x360 with 3 Axes>"
      ]
     },
     "metadata": {
      "needs_background": "light"
     },
     "output_type": "display_data"
    }
   ],
   "source": [
    "sns.catplot(data=df3,orient ='h' , palette=\"Set2\", col = 'cluster3')"
   ]
  },
  {
   "cell_type": "markdown",
   "id": "8a6e30c0",
   "metadata": {},
   "source": [
    "## Conclusion"
   ]
  },
  {
   "cell_type": "markdown",
   "id": "92f2df61",
   "metadata": {},
   "source": [
    "We have identified 3 clusters based on HC clustering.\n",
    "* Category 0 : All items in low sales .\n",
    "* Category 1: All except Frozen,Delicassen in High  sales.\n",
    "* Category 2: All in the mid range."
   ]
  },
  {
   "cell_type": "markdown",
   "id": "13504247",
   "metadata": {},
   "source": [
    "## Using PCA"
   ]
  },
  {
   "cell_type": "code",
   "execution_count": 40,
   "id": "9aff2ab2",
   "metadata": {},
   "outputs": [],
   "source": [
    "from sklearn.decomposition import PCA"
   ]
  },
  {
   "cell_type": "code",
   "execution_count": 41,
   "id": "a9a086f6",
   "metadata": {},
   "outputs": [],
   "source": [
    "dfpca = pd.read_csv('Wholesale customers data.csv')"
   ]
  },
  {
   "cell_type": "code",
   "execution_count": 42,
   "id": "e7c93155",
   "metadata": {},
   "outputs": [
    {
     "data": {
      "text/plain": [
       "Index(['Channel', 'Region', 'Fresh', 'Milk', 'Grocery', 'Frozen',\n",
       "       'Detergents_Paper', 'Delicassen'],\n",
       "      dtype='object')"
      ]
     },
     "execution_count": 42,
     "metadata": {},
     "output_type": "execute_result"
    }
   ],
   "source": [
    "dfpca.columns"
   ]
  },
  {
   "cell_type": "code",
   "execution_count": 43,
   "id": "804e0b3c",
   "metadata": {},
   "outputs": [
    {
     "data": {
      "text/html": [
       "<div>\n",
       "<style scoped>\n",
       "    .dataframe tbody tr th:only-of-type {\n",
       "        vertical-align: middle;\n",
       "    }\n",
       "\n",
       "    .dataframe tbody tr th {\n",
       "        vertical-align: top;\n",
       "    }\n",
       "\n",
       "    .dataframe thead th {\n",
       "        text-align: right;\n",
       "    }\n",
       "</style>\n",
       "<table border=\"1\" class=\"dataframe\">\n",
       "  <thead>\n",
       "    <tr style=\"text-align: right;\">\n",
       "      <th></th>\n",
       "      <th>0</th>\n",
       "      <th>1</th>\n",
       "      <th>2</th>\n",
       "      <th>3</th>\n",
       "      <th>4</th>\n",
       "      <th>5</th>\n",
       "    </tr>\n",
       "  </thead>\n",
       "  <tbody>\n",
       "    <tr>\n",
       "      <th>0</th>\n",
       "      <td>0.052933</td>\n",
       "      <td>0.523568</td>\n",
       "      <td>-0.041115</td>\n",
       "      <td>-0.589367</td>\n",
       "      <td>-0.043569</td>\n",
       "      <td>-0.066339</td>\n",
       "    </tr>\n",
       "    <tr>\n",
       "      <th>1</th>\n",
       "      <td>-0.391302</td>\n",
       "      <td>0.544458</td>\n",
       "      <td>0.170318</td>\n",
       "      <td>-0.270136</td>\n",
       "      <td>0.086407</td>\n",
       "      <td>0.089151</td>\n",
       "    </tr>\n",
       "    <tr>\n",
       "      <th>2</th>\n",
       "      <td>-0.447029</td>\n",
       "      <td>0.408538</td>\n",
       "      <td>-0.028157</td>\n",
       "      <td>-0.137536</td>\n",
       "      <td>0.133232</td>\n",
       "      <td>2.243293</td>\n",
       "    </tr>\n",
       "    <tr>\n",
       "      <th>3</th>\n",
       "      <td>0.100111</td>\n",
       "      <td>-0.624020</td>\n",
       "      <td>-0.392977</td>\n",
       "      <td>0.687144</td>\n",
       "      <td>-0.498588</td>\n",
       "      <td>0.093411</td>\n",
       "    </tr>\n",
       "    <tr>\n",
       "      <th>4</th>\n",
       "      <td>0.840239</td>\n",
       "      <td>-0.052396</td>\n",
       "      <td>-0.079356</td>\n",
       "      <td>0.173859</td>\n",
       "      <td>-0.231918</td>\n",
       "      <td>1.299347</td>\n",
       "    </tr>\n",
       "  </tbody>\n",
       "</table>\n",
       "</div>"
      ],
      "text/plain": [
       "          0         1         2         3         4         5\n",
       "0  0.052933  0.523568 -0.041115 -0.589367 -0.043569 -0.066339\n",
       "1 -0.391302  0.544458  0.170318 -0.270136  0.086407  0.089151\n",
       "2 -0.447029  0.408538 -0.028157 -0.137536  0.133232  2.243293\n",
       "3  0.100111 -0.624020 -0.392977  0.687144 -0.498588  0.093411\n",
       "4  0.840239 -0.052396 -0.079356  0.173859 -0.231918  1.299347"
      ]
     },
     "execution_count": 43,
     "metadata": {},
     "output_type": "execute_result"
    }
   ],
   "source": [
    "# feature scale before PCA\n",
    "from sklearn.preprocessing import StandardScaler\n",
    "sc = StandardScaler()\n",
    "df1 = sc.fit_transform(dfpca[['Fresh', 'Milk', 'Grocery', 'Frozen',\n",
    "       'Detergents_Paper', 'Delicassen']])\n",
    "df1 = pd.DataFrame(df1)\n",
    "df1.head()"
   ]
  },
  {
   "cell_type": "code",
   "execution_count": 44,
   "id": "aac56b25",
   "metadata": {},
   "outputs": [
    {
     "data": {
      "text/plain": [
       "array([[ 0.19329055, -0.30509996, -0.14087845],\n",
       "       [ 0.4344199 , -0.32841262,  0.31900662],\n",
       "       [ 0.81114323,  0.8150957 ,  1.52341562],\n",
       "       ...,\n",
       "       [ 3.46570362, -1.03983801, -0.71316141],\n",
       "       [-0.91802273, -0.03004659,  0.25840805],\n",
       "       [-1.10513709, -0.86133787,  0.30515404]])"
      ]
     },
     "execution_count": 44,
     "metadata": {},
     "output_type": "execute_result"
    }
   ],
   "source": [
    "pca = PCA(.9)\n",
    "pca.fit(df1)\n",
    "pca = PCA(n_components = 3)\n",
    "pca.fit(df1)\n",
    "x_pca = pca.transform(df1)\n",
    "x_pca"
   ]
  },
  {
   "cell_type": "code",
   "execution_count": 45,
   "id": "ad5198c3",
   "metadata": {},
   "outputs": [
    {
     "data": {
      "text/plain": [
       "array([0.44082893, 0.283764  , 0.12334413])"
      ]
     },
     "execution_count": 45,
     "metadata": {},
     "output_type": "execute_result"
    }
   ],
   "source": [
    "pca.explained_variance_ratio_"
   ]
  },
  {
   "cell_type": "code",
   "execution_count": 46,
   "id": "8d5ccafe",
   "metadata": {},
   "outputs": [
    {
     "data": {
      "text/plain": [
       "0.84793706"
      ]
     },
     "execution_count": 46,
     "metadata": {},
     "output_type": "execute_result"
    }
   ],
   "source": [
    "sum([0.44082893, 0.283764  , 0.12334413])"
   ]
  },
  {
   "cell_type": "code",
   "execution_count": 47,
   "id": "6155ed06",
   "metadata": {},
   "outputs": [
    {
     "data": {
      "image/png": "[encoded data removed]",
      "text/plain": [
       "<Figure size 1440x360 with 1 Axes>"
      ]
     },
     "metadata": {
      "needs_background": "light"
     },
     "output_type": "display_data"
    }
   ],
   "source": [
    "import scipy.cluster.hierarchy as sch\n",
    "plt.figure(figsize = (20,5))\n",
    "dendrogram = sch.dendrogram(sch.linkage(x_pca,method ='ward'))\n",
    "plt.title('Dendrogram')\n",
    "plt.xlabel('Clusters')\n",
    "plt.ylabel('Eucledian distance')\n",
    "plt.grid()\n",
    "plt.show()"
   ]
  },
  {
   "cell_type": "code",
   "execution_count": 48,
   "id": "f3c3ba6d",
   "metadata": {},
   "outputs": [
    {
     "name": "stdout",
     "output_type": "stream",
     "text": [
      "Silhouette Score(n=3): 0.3404698208702491\n",
      "Silhouette Score(n=4): 0.3426760710535858\n",
      "Silhouette Score(n=5): 0.30561874564871266\n",
      "Silhouette Score(n=6): 0.32035021997571017\n",
      "Silhouette Score(n=7): 0.33039643858848394\n"
     ]
    }
   ],
   "source": [
    "from sklearn.cluster import AgglomerativeClustering\n",
    "nc= np.arange(3,8)\n",
    "for n in nc:\n",
    "    hc1 = AgglomerativeClustering(n_clusters = n, affinity ='euclidean', linkage ='ward')\n",
    "    y_hc1 = hc1.fit_predict(x_pca)\n",
    "    print('Silhouette Score(n={}): {}'.format(n,silhouette_score(x_pca, y_hc1)))"
   ]
  },
  {
   "cell_type": "code",
   "execution_count": 49,
   "id": "73e1bc7c",
   "metadata": {},
   "outputs": [
    {
     "name": "stdout",
     "output_type": "stream",
     "text": [
      "n: 3, wcss: 1210.3715183835418 , Silhouette Score:  0.5726090020738704\n",
      "None\n",
      "n: 4, wcss: 915.8943764865463 , Silhouette Score:  0.4034921819516757\n",
      "None\n",
      "n: 5, wcss: 677.5074207203327 , Silhouette Score:  0.427937798163151\n",
      "None\n",
      "n: 6, wcss: 568.9637589437926 , Silhouette Score:  0.3753692020832657\n",
      "None\n",
      "n: 7, wcss: 486.11999651648847 , Silhouette Score:  0.3653125562575955\n",
      "None\n"
     ]
    }
   ],
   "source": [
    "wcss = []\n",
    "n =np.arange(3,8)\n",
    "for i in n:\n",
    "    model = KMeans(n_clusters = i, init ='k-means++', random_state = 42)\n",
    "    model.fit(x_pca)\n",
    "    y = model.fit_predict(x_pca)\n",
    "    wcss.append(model.inertia_)\n",
    "    print( print('n: {}, wcss: {} , Silhouette Score:  {}'.format(i, wcss[i-3],silhouette_score(x_pca, y))))"
   ]
  },
  {
   "cell_type": "markdown",
   "id": "700e300c",
   "metadata": {},
   "source": [
    "KMeans with n =  3 has a better score."
   ]
  }
 ],
 "metadata": {
  "kernelspec": {
   "display_name": "Python 3 (ipykernel)",
   "language": "python",
   "name": "python3"
  },
  "language_info": {
   "codemirror_mode": {
    "name": "ipython",
    "version": 3
   },
   "file_extension": ".py",
   "mimetype": "text/x-python",
   "name": "python",
   "nbconvert_exporter": "python",
   "pygments_lexer": "ipython3",
   "version": "3.9.7"
  }
 },
 "nbformat": 4,
 "nbformat_minor": 5
}
