{
 "cells": [
  {
   "cell_type": "code",
   "execution_count": 1,
   "metadata": {
    "id": "Yd7c4TrNntnX"
   },
   "outputs": [],
   "source": [
    "import numpy as np\n",
    "import pandas as pd\n",
    "import matplotlib.pyplot as plt\n",
    "import seaborn as sns"
   ]
  },
  {
   "cell_type": "code",
   "execution_count": 2,
   "metadata": {
    "colab": {
     "base_uri": "https://localhost:8080/",
     "height": 624
    },
    "id": "vOgi82UixSa9",
    "outputId": "f7054ead-9553-46fd-a30c-9fb0e7c03e24"
   },
   "outputs": [
    {
     "data": {
      "text/html": [
       "<div>\n",
       "<style scoped>\n",
       "    .dataframe tbody tr th:only-of-type {\n",
       "        vertical-align: middle;\n",
       "    }\n",
       "\n",
       "    .dataframe tbody tr th {\n",
       "        vertical-align: top;\n",
       "    }\n",
       "\n",
       "    .dataframe thead th {\n",
       "        text-align: right;\n",
       "    }\n",
       "</style>\n",
       "<table border=\"1\" class=\"dataframe\">\n",
       "  <thead>\n",
       "    <tr style=\"text-align: right;\">\n",
       "      <th></th>\n",
       "      <th>Unnamed: 0</th>\n",
       "      <th>cast</th>\n",
       "      <th>crew</th>\n",
       "      <th>id</th>\n",
       "      <th>keywords</th>\n",
       "      <th>original_title</th>\n",
       "      <th>metadata</th>\n",
       "    </tr>\n",
       "  </thead>\n",
       "  <tbody>\n",
       "    <tr>\n",
       "      <th>0</th>\n",
       "      <td>0</td>\n",
       "      <td>['tomhanks', 'timallen', 'donrickles', 'jimvar...</td>\n",
       "      <td>['johnlasseter']</td>\n",
       "      <td>862</td>\n",
       "      <td>['jealousy', 'toy', 'boy', 'friendship', 'frie...</td>\n",
       "      <td>Toy Story</td>\n",
       "      <td>tomhanks timallen donrickles jimvarney wallace...</td>\n",
       "    </tr>\n",
       "    <tr>\n",
       "      <th>1</th>\n",
       "      <td>1</td>\n",
       "      <td>['robinwilliams', 'jonathanhyde', 'kirstenduns...</td>\n",
       "      <td>['joejohnston']</td>\n",
       "      <td>8844</td>\n",
       "      <td>['boardgame', 'disappearance', \"basedonchildre...</td>\n",
       "      <td>Jumanji</td>\n",
       "      <td>robinwilliams jonathanhyde kirstendunst bradle...</td>\n",
       "    </tr>\n",
       "    <tr>\n",
       "      <th>2</th>\n",
       "      <td>2</td>\n",
       "      <td>['waltermatthau', 'jacklemmon', 'ann-margret',...</td>\n",
       "      <td>['howarddeutch']</td>\n",
       "      <td>15602</td>\n",
       "      <td>['fishing', 'bestfriend', 'duringcreditsstinge...</td>\n",
       "      <td>Grumpier Old Men</td>\n",
       "      <td>waltermatthau jacklemmon ann-margret sophialor...</td>\n",
       "    </tr>\n",
       "    <tr>\n",
       "      <th>3</th>\n",
       "      <td>3</td>\n",
       "      <td>['whitneyhouston', 'angelabassett', 'lorettade...</td>\n",
       "      <td>['forestwhitaker']</td>\n",
       "      <td>31357</td>\n",
       "      <td>['basedonnovel', 'interracialrelationship', 's...</td>\n",
       "      <td>Waiting to Exhale</td>\n",
       "      <td>whitneyhouston angelabassett lorettadevine lel...</td>\n",
       "    </tr>\n",
       "    <tr>\n",
       "      <th>4</th>\n",
       "      <td>4</td>\n",
       "      <td>['stevemartin', 'dianekeaton', 'martinshort', ...</td>\n",
       "      <td>['charlesshyer']</td>\n",
       "      <td>11862</td>\n",
       "      <td>['baby', 'midlifecrisis', 'confidence', 'aging...</td>\n",
       "      <td>Father of the Bride Part II</td>\n",
       "      <td>stevemartin dianekeaton martinshort kimberlywi...</td>\n",
       "    </tr>\n",
       "    <tr>\n",
       "      <th>...</th>\n",
       "      <td>...</td>\n",
       "      <td>...</td>\n",
       "      <td>...</td>\n",
       "      <td>...</td>\n",
       "      <td>...</td>\n",
       "      <td>...</td>\n",
       "      <td>...</td>\n",
       "    </tr>\n",
       "    <tr>\n",
       "      <th>46623</th>\n",
       "      <td>46623</td>\n",
       "      <td>['leilahatami', 'kouroshtahami', 'elhamkorda']</td>\n",
       "      <td>['hamidnematollah']</td>\n",
       "      <td>439050</td>\n",
       "      <td>['tragiclove']</td>\n",
       "      <td>رگ خواب</td>\n",
       "      <td>leilahatami kouroshtahami elhamkorda hamidnema...</td>\n",
       "    </tr>\n",
       "    <tr>\n",
       "      <th>46624</th>\n",
       "      <td>46624</td>\n",
       "      <td>['angelaquino', 'perrydizon', 'hazelorencio', ...</td>\n",
       "      <td>['lavdiaz']</td>\n",
       "      <td>111109</td>\n",
       "      <td>['artist', 'play', 'pinoy']</td>\n",
       "      <td>Siglo ng Pagluluwal</td>\n",
       "      <td>angelaquino perrydizon hazelorencio joeltorre ...</td>\n",
       "    </tr>\n",
       "    <tr>\n",
       "      <th>46625</th>\n",
       "      <td>46625</td>\n",
       "      <td>['erikaeleniak', 'adambaldwin', 'juliedupage',...</td>\n",
       "      <td>['markl.lester']</td>\n",
       "      <td>67758</td>\n",
       "      <td>[]</td>\n",
       "      <td>Betrayal</td>\n",
       "      <td>erikaeleniak adambaldwin juliedupage jamesrema...</td>\n",
       "    </tr>\n",
       "    <tr>\n",
       "      <th>46626</th>\n",
       "      <td>46626</td>\n",
       "      <td>['iwanmosschuchin', 'nathalielissenko', 'pavel...</td>\n",
       "      <td>['yakovprotazanov']</td>\n",
       "      <td>227506</td>\n",
       "      <td>[]</td>\n",
       "      <td>Satana likuyushchiy</td>\n",
       "      <td>iwanmosschuchin nathalielissenko pavelpavlov a...</td>\n",
       "    </tr>\n",
       "    <tr>\n",
       "      <th>46627</th>\n",
       "      <td>46627</td>\n",
       "      <td>[]</td>\n",
       "      <td>['daisyasquith']</td>\n",
       "      <td>461257</td>\n",
       "      <td>[]</td>\n",
       "      <td>Queerama</td>\n",
       "      <td>daisyasquith</td>\n",
       "    </tr>\n",
       "  </tbody>\n",
       "</table>\n",
       "<p>46628 rows × 7 columns</p>\n",
       "</div>"
      ],
      "text/plain": [
       "       Unnamed: 0                                               cast  \\\n",
       "0               0  ['tomhanks', 'timallen', 'donrickles', 'jimvar...   \n",
       "1               1  ['robinwilliams', 'jonathanhyde', 'kirstenduns...   \n",
       "2               2  ['waltermatthau', 'jacklemmon', 'ann-margret',...   \n",
       "3               3  ['whitneyhouston', 'angelabassett', 'lorettade...   \n",
       "4               4  ['stevemartin', 'dianekeaton', 'martinshort', ...   \n",
       "...           ...                                                ...   \n",
       "46623       46623     ['leilahatami', 'kouroshtahami', 'elhamkorda']   \n",
       "46624       46624  ['angelaquino', 'perrydizon', 'hazelorencio', ...   \n",
       "46625       46625  ['erikaeleniak', 'adambaldwin', 'juliedupage',...   \n",
       "46626       46626  ['iwanmosschuchin', 'nathalielissenko', 'pavel...   \n",
       "46627       46627                                                 []   \n",
       "\n",
       "                      crew      id  \\\n",
       "0         ['johnlasseter']     862   \n",
       "1          ['joejohnston']    8844   \n",
       "2         ['howarddeutch']   15602   \n",
       "3       ['forestwhitaker']   31357   \n",
       "4         ['charlesshyer']   11862   \n",
       "...                    ...     ...   \n",
       "46623  ['hamidnematollah']  439050   \n",
       "46624          ['lavdiaz']  111109   \n",
       "46625     ['markl.lester']   67758   \n",
       "46626  ['yakovprotazanov']  227506   \n",
       "46627     ['daisyasquith']  461257   \n",
       "\n",
       "                                                keywords  \\\n",
       "0      ['jealousy', 'toy', 'boy', 'friendship', 'frie...   \n",
       "1      ['boardgame', 'disappearance', \"basedonchildre...   \n",
       "2      ['fishing', 'bestfriend', 'duringcreditsstinge...   \n",
       "3      ['basedonnovel', 'interracialrelationship', 's...   \n",
       "4      ['baby', 'midlifecrisis', 'confidence', 'aging...   \n",
       "...                                                  ...   \n",
       "46623                                     ['tragiclove']   \n",
       "46624                        ['artist', 'play', 'pinoy']   \n",
       "46625                                                 []   \n",
       "46626                                                 []   \n",
       "46627                                                 []   \n",
       "\n",
       "                    original_title  \\\n",
       "0                        Toy Story   \n",
       "1                          Jumanji   \n",
       "2                 Grumpier Old Men   \n",
       "3                Waiting to Exhale   \n",
       "4      Father of the Bride Part II   \n",
       "...                            ...   \n",
       "46623                      رگ خواب   \n",
       "46624          Siglo ng Pagluluwal   \n",
       "46625                     Betrayal   \n",
       "46626          Satana likuyushchiy   \n",
       "46627                     Queerama   \n",
       "\n",
       "                                                metadata  \n",
       "0      tomhanks timallen donrickles jimvarney wallace...  \n",
       "1      robinwilliams jonathanhyde kirstendunst bradle...  \n",
       "2      waltermatthau jacklemmon ann-margret sophialor...  \n",
       "3      whitneyhouston angelabassett lorettadevine lel...  \n",
       "4      stevemartin dianekeaton martinshort kimberlywi...  \n",
       "...                                                  ...  \n",
       "46623  leilahatami kouroshtahami elhamkorda hamidnema...  \n",
       "46624  angelaquino perrydizon hazelorencio joeltorre ...  \n",
       "46625  erikaeleniak adambaldwin juliedupage jamesrema...  \n",
       "46626  iwanmosschuchin nathalielissenko pavelpavlov a...  \n",
       "46627                                      daisyasquith   \n",
       "\n",
       "[46628 rows x 7 columns]"
      ]
     },
     "execution_count": 2,
     "metadata": {},
     "output_type": "execute_result"
    }
   ],
   "source": [
    "df = pd.read_csv('metadata.csv')\n",
    "df"
   ]
  },
  {
   "cell_type": "code",
   "execution_count": 3,
   "metadata": {
    "id": "2ci2PEP4yEB0"
   },
   "outputs": [],
   "source": [
    "from sklearn.feature_extraction.text import CountVectorizer\n",
    "from sklearn.metrics.pairwise import cosine_similarity"
   ]
  },
  {
   "cell_type": "code",
   "execution_count": 4,
   "metadata": {
    "id": "XsHLu0B-x-l2"
   },
   "outputs": [],
   "source": [
    "dfs = df.iloc[:10000,:] #due to memory issues, using first 10k rows\n",
    "from pandas.core.describe import DataFrameDescriber\n",
    "#DataFrameDescriber = dfs.sample(frac =.2)\n",
    "count_vec = CountVectorizer(stop_words='english')\n",
    "count_vec_matrix = count_vec.fit_transform(dfs['metadata'])\n",
    "cosine_sim_matrix = cosine_similarity(count_vec_matrix, count_vec_matrix)\n",
    "#movies index mapping\n",
    "mapping = pd.Series(dfs.index,index = dfs['original_title'])"
   ]
  },
  {
   "cell_type": "code",
   "execution_count": 5,
   "metadata": {
    "id": "cjY4yQLWxetl"
   },
   "outputs": [],
   "source": [
    "#recommender function to recommend movies based on metadata\n",
    "def recommend_movies_based_on_metadata(movie_input):\n",
    "  movie_index = mapping[movie_input]\n",
    " #get similarity values with other movies\n",
    "  similarity_score = list(enumerate(cosine_sim_matrix[movie_index]))\n",
    "  similarity_score = sorted(similarity_score, key=lambda x: x[1], reverse=True)\n",
    " # Get the scores of the 15 most similar movies. Ignore the first movie.\n",
    "  similarity_score = similarity_score[1:15]\n",
    "  movie_indices = [i[0] for i in similarity_score]\n",
    "  return (df['original_title'].iloc[movie_indices])"
   ]
  },
  {
   "cell_type": "code",
   "execution_count": 6,
   "metadata": {
    "colab": {
     "base_uri": "https://localhost:8080/"
    },
    "id": "MU8QJxXT4elr",
    "outputId": "e9b7583a-3df2-4a05-e62b-e0c7882708ec"
   },
   "outputs": [
    {
     "data": {
      "text/plain": [
       "0                        Toy Story\n",
       "2262                  A Bug's Life\n",
       "7090                 Teacher's Pet\n",
       "4797                Monsters, Inc.\n",
       "6301                  Finding Nemo\n",
       "3991      The Brave Little Toaster\n",
       "8317               The Incredibles\n",
       "5806               Treasure Planet\n",
       "6809                  Brother Bear\n",
       "346               Corrina, Corrina\n",
       "2155                  Stars & Bars\n",
       "2160    The Cabinet of Dr. Ramirez\n",
       "2673                The Iron Giant\n",
       "2298                 A Simple Plan\n",
       "Name: original_title, dtype: object"
      ]
     },
     "execution_count": 6,
     "metadata": {},
     "output_type": "execute_result"
    }
   ],
   "source": [
    "recommend_movies_based_on_metadata('Toy Story 2')"
   ]
  },
  {
   "cell_type": "code",
   "execution_count": null,
   "metadata": {},
   "outputs": [],
   "source": []
  }
 ],
 "metadata": {
  "accelerator": "GPU",
  "colab": {
   "name": "02 recommendation using metadata.ipynb",
   "provenance": []
  },
  "gpuClass": "standard",
  "kernelspec": {
   "display_name": "Python 3 (ipykernel)",
   "language": "python",
   "name": "python3"
  },
  "language_info": {
   "codemirror_mode": {
    "name": "ipython",
    "version": 3
   },
   "file_extension": ".py",
   "mimetype": "text/x-python",
   "name": "python",
   "nbconvert_exporter": "python",
   "pygments_lexer": "ipython3",
   "version": "3.9.7"
  }
 },
 "nbformat": 4,
 "nbformat_minor": 1
}
